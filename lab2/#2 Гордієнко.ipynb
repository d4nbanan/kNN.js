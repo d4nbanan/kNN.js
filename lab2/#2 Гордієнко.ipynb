{
 "cells": [
  {
   "cell_type": "code",
   "execution_count": null,
   "metadata": {},
   "outputs": [
    {
     "data": {
      "text/html": [
       "<div>\n",
       "<style scoped>\n",
       "    .dataframe tbody tr th:only-of-type {\n",
       "        vertical-align: middle;\n",
       "    }\n",
       "\n",
       "    .dataframe tbody tr th {\n",
       "        vertical-align: top;\n",
       "    }\n",
       "\n",
       "    .dataframe thead th {\n",
       "        text-align: right;\n",
       "    }\n",
       "</style>\n",
       "<table border=\"1\" class=\"dataframe\">\n",
       "  <thead>\n",
       "    <tr style=\"text-align: right;\">\n",
       "      <th></th>\n",
       "      <th>username</th>\n",
       "      <th>movie#1</th>\n",
       "      <th>movie#2</th>\n",
       "      <th>movie#3</th>\n",
       "      <th>movie#4</th>\n",
       "      <th>movie#5</th>\n",
       "      <th>movie#6</th>\n",
       "      <th>movie#7</th>\n",
       "      <th>movie#8</th>\n",
       "      <th>movie#9</th>\n",
       "      <th>movie#10</th>\n",
       "    </tr>\n",
       "  </thead>\n",
       "  <tbody>\n",
       "    <tr>\n",
       "      <th>0</th>\n",
       "      <td>id#0</td>\n",
       "      <td>7</td>\n",
       "      <td>15</td>\n",
       "      <td>12</td>\n",
       "      <td>24</td>\n",
       "      <td>48</td>\n",
       "      <td>57</td>\n",
       "      <td>27</td>\n",
       "      <td>37</td>\n",
       "      <td>65</td>\n",
       "      <td>83</td>\n",
       "    </tr>\n",
       "    <tr>\n",
       "      <th>1</th>\n",
       "      <td>id#1</td>\n",
       "      <td>7</td>\n",
       "      <td>5</td>\n",
       "      <td>22</td>\n",
       "      <td>36</td>\n",
       "      <td>25</td>\n",
       "      <td>4</td>\n",
       "      <td>16</td>\n",
       "      <td>16</td>\n",
       "      <td>88</td>\n",
       "      <td>0</td>\n",
       "    </tr>\n",
       "    <tr>\n",
       "      <th>2</th>\n",
       "      <td>id#2</td>\n",
       "      <td>9</td>\n",
       "      <td>7</td>\n",
       "      <td>28</td>\n",
       "      <td>33</td>\n",
       "      <td>35</td>\n",
       "      <td>58</td>\n",
       "      <td>62</td>\n",
       "      <td>63</td>\n",
       "      <td>45</td>\n",
       "      <td>70</td>\n",
       "    </tr>\n",
       "    <tr>\n",
       "      <th>3</th>\n",
       "      <td>id#3</td>\n",
       "      <td>9</td>\n",
       "      <td>17</td>\n",
       "      <td>9</td>\n",
       "      <td>39</td>\n",
       "      <td>35</td>\n",
       "      <td>30</td>\n",
       "      <td>60</td>\n",
       "      <td>49</td>\n",
       "      <td>49</td>\n",
       "      <td>99</td>\n",
       "    </tr>\n",
       "    <tr>\n",
       "      <th>4</th>\n",
       "      <td>id#4</td>\n",
       "      <td>4</td>\n",
       "      <td>11</td>\n",
       "      <td>8</td>\n",
       "      <td>22</td>\n",
       "      <td>10</td>\n",
       "      <td>58</td>\n",
       "      <td>6</td>\n",
       "      <td>59</td>\n",
       "      <td>88</td>\n",
       "      <td>25</td>\n",
       "    </tr>\n",
       "  </tbody>\n",
       "</table>\n",
       "</div>"
      ],
      "text/plain": [
       "  username  movie#1  movie#2  movie#3  movie#4  movie#5  movie#6  movie#7  \\\n",
       "0     id#0        7       15       12       24       48       57       27   \n",
       "1     id#1        7        5       22       36       25        4       16   \n",
       "2     id#2        9        7       28       33       35       58       62   \n",
       "3     id#3        9       17        9       39       35       30       60   \n",
       "4     id#4        4       11        8       22       10       58        6   \n",
       "\n",
       "   movie#8  movie#9  movie#10  \n",
       "0       37       65        83  \n",
       "1       16       88         0  \n",
       "2       63       45        70  \n",
       "3       49       49        99  \n",
       "4       59       88        25  "
      ]
     },
     "execution_count": 1,
     "metadata": {},
     "output_type": "execute_result"
    }
   ],
   "source": [
    "import pandas as pd\n",
    "import numpy as np\n",
    "\n",
    "\n",
    "df = pd.read_csv(\"test.csv\")\n",
    "\n",
    "df.head()"
   ]
  },
  {
   "cell_type": "code",
   "execution_count": 2,
   "metadata": {},
   "outputs": [
    {
     "data": {
      "text/html": [
       "<div>\n",
       "<style scoped>\n",
       "    .dataframe tbody tr th:only-of-type {\n",
       "        vertical-align: middle;\n",
       "    }\n",
       "\n",
       "    .dataframe tbody tr th {\n",
       "        vertical-align: top;\n",
       "    }\n",
       "\n",
       "    .dataframe thead th {\n",
       "        text-align: right;\n",
       "    }\n",
       "</style>\n",
       "<table border=\"1\" class=\"dataframe\">\n",
       "  <thead>\n",
       "    <tr style=\"text-align: right;\">\n",
       "      <th></th>\n",
       "      <th>username</th>\n",
       "      <th>movie#1</th>\n",
       "      <th>movie#2</th>\n",
       "      <th>movie#3</th>\n",
       "      <th>movie#4</th>\n",
       "      <th>movie#5</th>\n",
       "      <th>movie#6</th>\n",
       "      <th>movie#7</th>\n",
       "      <th>movie#8</th>\n",
       "      <th>movie#9</th>\n",
       "      <th>movie#10</th>\n",
       "    </tr>\n",
       "  </thead>\n",
       "  <tbody>\n",
       "    <tr>\n",
       "      <th>0</th>\n",
       "      <td>id#0</td>\n",
       "      <td>7</td>\n",
       "      <td>15</td>\n",
       "      <td>12</td>\n",
       "      <td>24</td>\n",
       "      <td>48</td>\n",
       "      <td>57</td>\n",
       "      <td>27</td>\n",
       "      <td>37</td>\n",
       "      <td>65</td>\n",
       "      <td>83</td>\n",
       "    </tr>\n",
       "    <tr>\n",
       "      <th>1</th>\n",
       "      <td>id#1</td>\n",
       "      <td>7</td>\n",
       "      <td>5</td>\n",
       "      <td>22</td>\n",
       "      <td>36</td>\n",
       "      <td>25</td>\n",
       "      <td>4</td>\n",
       "      <td>16</td>\n",
       "      <td>16</td>\n",
       "      <td>88</td>\n",
       "      <td>0</td>\n",
       "    </tr>\n",
       "    <tr>\n",
       "      <th>2</th>\n",
       "      <td>id#2</td>\n",
       "      <td>9</td>\n",
       "      <td>7</td>\n",
       "      <td>28</td>\n",
       "      <td>33</td>\n",
       "      <td>35</td>\n",
       "      <td>58</td>\n",
       "      <td>62</td>\n",
       "      <td>63</td>\n",
       "      <td>45</td>\n",
       "      <td>70</td>\n",
       "    </tr>\n",
       "    <tr>\n",
       "      <th>3</th>\n",
       "      <td>id#3</td>\n",
       "      <td>9</td>\n",
       "      <td>17</td>\n",
       "      <td>9</td>\n",
       "      <td>39</td>\n",
       "      <td>35</td>\n",
       "      <td>30</td>\n",
       "      <td>60</td>\n",
       "      <td>49</td>\n",
       "      <td>49</td>\n",
       "      <td>99</td>\n",
       "    </tr>\n",
       "    <tr>\n",
       "      <th>4</th>\n",
       "      <td>id#4</td>\n",
       "      <td>4</td>\n",
       "      <td>11</td>\n",
       "      <td>8</td>\n",
       "      <td>22</td>\n",
       "      <td>10</td>\n",
       "      <td>58</td>\n",
       "      <td>6</td>\n",
       "      <td>59</td>\n",
       "      <td>88</td>\n",
       "      <td>25</td>\n",
       "    </tr>\n",
       "  </tbody>\n",
       "</table>\n",
       "</div>"
      ],
      "text/plain": [
       "  username  movie#1  movie#2  movie#3  movie#4  movie#5  movie#6  movie#7  \\\n",
       "0     id#0        7       15       12       24       48       57       27   \n",
       "1     id#1        7        5       22       36       25        4       16   \n",
       "2     id#2        9        7       28       33       35       58       62   \n",
       "3     id#3        9       17        9       39       35       30       60   \n",
       "4     id#4        4       11        8       22       10       58        6   \n",
       "\n",
       "   movie#8  movie#9  movie#10  \n",
       "0       37       65        83  \n",
       "1       16       88         0  \n",
       "2       63       45        70  \n",
       "3       49       49        99  \n",
       "4       59       88        25  "
      ]
     },
     "execution_count": 2,
     "metadata": {},
     "output_type": "execute_result"
    }
   ],
   "source": [
    "#clean data\n",
    "df.replace(np.NaN, 0, inplace=True)\n",
    "df.head()"
   ]
  },
  {
   "cell_type": "code",
   "execution_count": null,
   "metadata": {},
   "outputs": [],
   "source": [
    "def get_neig(df: pd.DataFrame, i: int, k: int) -> pd.DataFrame:\n",
    "    scores_table = df[df.columns[1:]]\n",
    "    row = scores_table.iloc[i]\n",
    "    distances = np.linalg.norm(scores_table -row, axis=1)\n",
    "\n",
    "    distances.head();\n",
    "    #+1 to remove the user from user neighbors\n",
    "    nearest_neighbor_ids = distances.argsort()[1:k+1]\n",
    "    nearest_neighbors = scores_table.iloc[nearest_neighbor_ids]\n",
    "    return nearest_neighbors  # type: ignore\n"
   ]
  },
  {
   "cell_type": "code",
   "execution_count": 4,
   "metadata": {},
   "outputs": [
    {
     "data": {
      "text/plain": [
       "13.882062169893032"
      ]
     },
     "execution_count": 4,
     "metadata": {},
     "output_type": "execute_result"
    }
   ],
   "source": [
    "import math\n",
    "from scipy import stats\n",
    "#constants\n",
    "CONST_K = 4\n",
    "CONST_RATING_POINT = 75\n",
    "\n",
    "#helper funcs\n",
    "\n",
    "#get scores from dataframe\n",
    "def get_scores(df, i):\n",
    "    return df.iloc[[i]][df.columns[1:]].values[0]\n",
    "\n",
    "#my implementation of corelation coefficient\n",
    "def get_wij(row_i, row_j):\n",
    "    average_i = np.average(row_i)\n",
    "    average_j = np.average(row_j)\n",
    "\n",
    "    top_a = row_i - average_i\n",
    "    top_b = row_j - average_j\n",
    "\n",
    "    top_array = top_a * top_b\n",
    "    top_value = np.sum(top_array)\n",
    "\n",
    "    bottom_a_squared = top_a ** 2\n",
    "    bottom_b_sum = np.sum(bottom_a_squared)\n",
    "    bottom_a_root = np.sqrt(bottom_b_sum)\n",
    "\n",
    "    bottom_b_squared = top_b ** 2\n",
    "    bottom_b_sum = np.sum(bottom_b_squared)\n",
    "    bottom_b_root = np.sqrt(bottom_b_sum)\n",
    "\n",
    "    bottom_value = bottom_a_root * bottom_b_root\n",
    "\n",
    "    return top_value/bottom_value\n",
    "\n",
    "\n",
    "#get rating based on i=row, a=col, k=number of neighbors\n",
    "def get_rating(df: pd.DataFrame, i: int, a:int, k: int):\n",
    "    person_scores = get_scores(df, i)\n",
    "    person_average = np.average(person_scores)\n",
    "\n",
    "    top = 0\n",
    "    bottom = 0\n",
    "\n",
    "    neighbors_scores = get_neig(df, i, k)\n",
    "    # neighbors_scores = df[df.columns[1:]][1:]\n",
    "\n",
    "    #rating formula implementation\n",
    "    selected = np.array(neighbors_scores[neighbors_scores.columns[a]])\n",
    "    averages = np.average(neighbors_scores, axis=1)\n",
    "    corelations = neighbors_scores.apply(lambda row: get_wij(person_scores, row), axis=1)\n",
    "\n",
    "    selected_minus_average = selected - averages\n",
    "    top_array = selected_minus_average * corelations\n",
    "    top_value = np.sum(top_array)\n",
    "    \n",
    "    bottom_array = np.abs(corelations)\n",
    "    bottom_value = np.sum(bottom_array)\n",
    "    \n",
    "    rating = (top_value / bottom_value) + person_average\n",
    "\n",
    "    return rating\n",
    "\n",
    "#test example\n",
    "get_rating(df, 3, 2, CONST_K)"
   ]
  },
  {
   "cell_type": "code",
   "execution_count": 5,
   "metadata": {},
   "outputs": [
    {
     "data": {
      "text/plain": [
       "False"
      ]
     },
     "execution_count": 5,
     "metadata": {},
     "output_type": "execute_result"
    }
   ],
   "source": [
    "#point of split into should and should not watch\n",
    "\n",
    "def should_watch(df: pd.DataFrame, i: int, a: int, k: int = 8):\n",
    "    rating = get_rating(df, i, a, k)\n",
    "    return rating >= CONST_RATING_POINT\n",
    "\n",
    "#test example\n",
    "should_watch(df, 3, 2)"
   ]
  },
  {
   "cell_type": "code",
   "execution_count": 6,
   "metadata": {},
   "outputs": [
    {
     "data": {
      "text/plain": [
       "<BarContainer object of 2 artists>"
      ]
     },
     "execution_count": 6,
     "metadata": {},
     "output_type": "execute_result"
    },
    {
     "data": {
      "image/png": "[encoded data removed]",
      "text/plain": [
       "<Figure size 432x288 with 1 Axes>"
      ]
     },
     "metadata": {
      "needs_background": "light"
     },
     "output_type": "display_data"
    }
   ],
   "source": [
    "from decimal import DivisionByZero\n",
    "import matplotlib.pyplot as plt\n",
    "#match/not match review\n",
    "def test_should_watch_diff(df: pd.DataFrame, k: int):\n",
    "  row_len = len(df)\n",
    "  col_len = len(df.columns)\n",
    "  diff = []\n",
    "  for row_index in range(row_len):\n",
    "    scores = get_scores(df, row_index)\n",
    "    for score_index, score in enumerate(scores):\n",
    "      calc_value = should_watch(df, row_index, score_index, k)\n",
    "      real_value = score >= CONST_RATING_POINT\n",
    "      diff.append(calc_value == real_value)\n",
    "  return diff\n",
    "\n",
    "def percentage(part, whole):\n",
    "  return 100 * float(part)/float(whole)\n",
    "\n",
    "def go_test_watch(k: int = 1):\n",
    "\n",
    "  watch_diff = test_should_watch_diff(df, k)\n",
    "  matches = list(filter(lambda x: x == True, watch_diff))\n",
    "  not_matches = list(filter(lambda x: x == False, watch_diff))\n",
    "\n",
    "  correct_matches_len = len(matches)\n",
    "  wrong_matches_len = len(not_matches)\n",
    "  error_rate = percentage(wrong_matches_len, len(watch_diff))\n",
    "  return correct_matches_len, wrong_matches_len, error_rate\n",
    "\n",
    "\n",
    "\n",
    "correct, wrong, error_rate = go_test_watch(CONST_K)\n",
    "plt.title(f\"Error rate: {error_rate}%\")\n",
    "plt.bar([\"match\", \"not match\"], [correct, wrong], color=[\"green\", \"red\"])\n"
   ]
  },
  {
   "cell_type": "code",
   "execution_count": 7,
   "metadata": {},
   "outputs": [
    {
     "data": {
      "text/plain": [
       "[<matplotlib.lines.Line2D at 0x1b4847c2c70>]"
      ]
     },
     "execution_count": 7,
     "metadata": {},
     "output_type": "execute_result"
    },
    {
     "data": {
      "image/png": "[encoded data removed]",
      "text/plain": [
       "<Figure size 432x288 with 1 Axes>"
      ]
     },
     "metadata": {
      "needs_background": "light"
     },
     "output_type": "display_data"
    }
   ],
   "source": [
    "#score review\n",
    "def test_score_diff(df: pd.DataFrame, k: int):\n",
    "    diff_arr = []\n",
    "    for row_idx in range(len(df)):\n",
    "        scores = get_scores(df, row_idx)\n",
    "        for score_idx, score in enumerate(scores):\n",
    "            calc_score = get_rating(df, row_idx, score_idx, k)\n",
    "            diff = abs(score - calc_score)\n",
    "            diff_arr.append(diff)\n",
    "    \n",
    "    return diff_arr\n",
    "\n",
    "diff = test_score_diff(df, CONST_K)\n",
    "\n",
    "plt.title(f\"DIFF: average: {np.average(diff)}, median: {np.median(diff)}\")\n",
    "plt.ylabel(\"Difference\")\n",
    "plt.plot(np.arange(len(diff)), diff)"
   ]
  }
 ],
 "metadata": {
  "kernelspec": {
   "display_name": "Python 3",
   "language": "python",
   "name": "python3"
  },
  "language_info": {
   "codemirror_mode": {
    "name": "ipython",
    "version": 3
   },
   "file_extension": ".py",
   "mimetype": "text/x-python",
   "name": "python",
   "nbconvert_exporter": "python",
   "pygments_lexer": "ipython3",
   "version": "3.9.13"
  },
  "orig_nbformat": 4,
  "vscode": {
   "interpreter": {
    "hash": "8154814e8422e68aace7e382fef942e7ec8dbbe91bdadf4f46de21dc52d947a4"
   }
  }
 },
 "nbformat": 4,
 "nbformat_minor": 2
}
