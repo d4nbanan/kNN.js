{
 "cells": [
  {
   "cell_type": "code",
   "execution_count": 23,
   "metadata": {},
   "outputs": [
    {
     "data": {
      "text/html": [
       "<div>\n",
       "<style scoped>\n",
       "    .dataframe tbody tr th:only-of-type {\n",
       "        vertical-align: middle;\n",
       "    }\n",
       "\n",
       "    .dataframe tbody tr th {\n",
       "        vertical-align: top;\n",
       "    }\n",
       "\n",
       "    .dataframe thead th {\n",
       "        text-align: right;\n",
       "    }\n",
       "</style>\n",
       "<table border=\"1\" class=\"dataframe\">\n",
       "  <thead>\n",
       "    <tr style=\"text-align: right;\">\n",
       "      <th></th>\n",
       "      <th>username</th>\n",
       "      <th>movie#1</th>\n",
       "      <th>movie#2</th>\n",
       "      <th>movie#3</th>\n",
       "      <th>movie#4</th>\n",
       "      <th>movie#5</th>\n",
       "    </tr>\n",
       "  </thead>\n",
       "  <tbody>\n",
       "    <tr>\n",
       "      <th>0</th>\n",
       "      <td>id#0</td>\n",
       "      <td>83</td>\n",
       "      <td>42</td>\n",
       "      <td>37</td>\n",
       "      <td>13</td>\n",
       "      <td>78</td>\n",
       "    </tr>\n",
       "    <tr>\n",
       "      <th>1</th>\n",
       "      <td>id#1</td>\n",
       "      <td>87</td>\n",
       "      <td>21</td>\n",
       "      <td>69</td>\n",
       "      <td>24</td>\n",
       "      <td>34</td>\n",
       "    </tr>\n",
       "    <tr>\n",
       "      <th>2</th>\n",
       "      <td>id#2</td>\n",
       "      <td>97</td>\n",
       "      <td>88</td>\n",
       "      <td>0</td>\n",
       "      <td>74</td>\n",
       "      <td>67</td>\n",
       "    </tr>\n",
       "    <tr>\n",
       "      <th>3</th>\n",
       "      <td>id#3</td>\n",
       "      <td>90</td>\n",
       "      <td>43</td>\n",
       "      <td>32</td>\n",
       "      <td>0</td>\n",
       "      <td>75</td>\n",
       "    </tr>\n",
       "    <tr>\n",
       "      <th>4</th>\n",
       "      <td>id#4</td>\n",
       "      <td>79</td>\n",
       "      <td>53</td>\n",
       "      <td>43</td>\n",
       "      <td>94</td>\n",
       "      <td>67</td>\n",
       "    </tr>\n",
       "  </tbody>\n",
       "</table>\n",
       "</div>"
      ],
      "text/plain": [
       "  username  movie#1  movie#2  movie#3  movie#4  movie#5\n",
       "0     id#0       83       42       37       13       78\n",
       "1     id#1       87       21       69       24       34\n",
       "2     id#2       97       88        0       74       67\n",
       "3     id#3       90       43       32        0       75\n",
       "4     id#4       79       53       43       94       67"
      ]
     },
     "execution_count": 23,
     "metadata": {},
     "output_type": "execute_result"
    }
   ],
   "source": [
    "import pandas as pd\n",
    "import numpy as np\n",
    "\n",
    "\n",
    "df = pd.read_csv(\"test.csv\")\n",
    "\n",
    "df.head()"
   ]
  },
  {
   "cell_type": "code",
   "execution_count": 24,
   "metadata": {},
   "outputs": [
    {
     "data": {
      "text/html": [
       "<div>\n",
       "<style scoped>\n",
       "    .dataframe tbody tr th:only-of-type {\n",
       "        vertical-align: middle;\n",
       "    }\n",
       "\n",
       "    .dataframe tbody tr th {\n",
       "        vertical-align: top;\n",
       "    }\n",
       "\n",
       "    .dataframe thead th {\n",
       "        text-align: right;\n",
       "    }\n",
       "</style>\n",
       "<table border=\"1\" class=\"dataframe\">\n",
       "  <thead>\n",
       "    <tr style=\"text-align: right;\">\n",
       "      <th></th>\n",
       "      <th>username</th>\n",
       "      <th>movie#1</th>\n",
       "      <th>movie#2</th>\n",
       "      <th>movie#3</th>\n",
       "      <th>movie#4</th>\n",
       "      <th>movie#5</th>\n",
       "    </tr>\n",
       "  </thead>\n",
       "  <tbody>\n",
       "    <tr>\n",
       "      <th>0</th>\n",
       "      <td>id#0</td>\n",
       "      <td>83</td>\n",
       "      <td>42</td>\n",
       "      <td>37</td>\n",
       "      <td>13</td>\n",
       "      <td>78</td>\n",
       "    </tr>\n",
       "    <tr>\n",
       "      <th>1</th>\n",
       "      <td>id#1</td>\n",
       "      <td>87</td>\n",
       "      <td>21</td>\n",
       "      <td>69</td>\n",
       "      <td>24</td>\n",
       "      <td>34</td>\n",
       "    </tr>\n",
       "    <tr>\n",
       "      <th>2</th>\n",
       "      <td>id#2</td>\n",
       "      <td>97</td>\n",
       "      <td>88</td>\n",
       "      <td>0</td>\n",
       "      <td>74</td>\n",
       "      <td>67</td>\n",
       "    </tr>\n",
       "    <tr>\n",
       "      <th>3</th>\n",
       "      <td>id#3</td>\n",
       "      <td>90</td>\n",
       "      <td>43</td>\n",
       "      <td>32</td>\n",
       "      <td>0</td>\n",
       "      <td>75</td>\n",
       "    </tr>\n",
       "    <tr>\n",
       "      <th>4</th>\n",
       "      <td>id#4</td>\n",
       "      <td>79</td>\n",
       "      <td>53</td>\n",
       "      <td>43</td>\n",
       "      <td>94</td>\n",
       "      <td>67</td>\n",
       "    </tr>\n",
       "  </tbody>\n",
       "</table>\n",
       "</div>"
      ],
      "text/plain": [
       "  username  movie#1  movie#2  movie#3  movie#4  movie#5\n",
       "0     id#0       83       42       37       13       78\n",
       "1     id#1       87       21       69       24       34\n",
       "2     id#2       97       88        0       74       67\n",
       "3     id#3       90       43       32        0       75\n",
       "4     id#4       79       53       43       94       67"
      ]
     },
     "execution_count": 24,
     "metadata": {},
     "output_type": "execute_result"
    }
   ],
   "source": [
    "#clean data\n",
    "df.replace(np.NaN, 0, inplace=True)\n",
    "df.head()"
   ]
  },
  {
   "cell_type": "code",
   "execution_count": 25,
   "metadata": {},
   "outputs": [
    {
     "data": {
      "text/html": [
       "<div>\n",
       "<style scoped>\n",
       "    .dataframe tbody tr th:only-of-type {\n",
       "        vertical-align: middle;\n",
       "    }\n",
       "\n",
       "    .dataframe tbody tr th {\n",
       "        vertical-align: top;\n",
       "    }\n",
       "\n",
       "    .dataframe thead th {\n",
       "        text-align: right;\n",
       "    }\n",
       "</style>\n",
       "<table border=\"1\" class=\"dataframe\">\n",
       "  <thead>\n",
       "    <tr style=\"text-align: right;\">\n",
       "      <th></th>\n",
       "      <th>movie#1</th>\n",
       "      <th>movie#2</th>\n",
       "      <th>movie#3</th>\n",
       "      <th>movie#4</th>\n",
       "      <th>movie#5</th>\n",
       "    </tr>\n",
       "  </thead>\n",
       "  <tbody>\n",
       "    <tr>\n",
       "      <th>3</th>\n",
       "      <td>90</td>\n",
       "      <td>43</td>\n",
       "      <td>32</td>\n",
       "      <td>0</td>\n",
       "      <td>75</td>\n",
       "    </tr>\n",
       "    <tr>\n",
       "      <th>71</th>\n",
       "      <td>83</td>\n",
       "      <td>35</td>\n",
       "      <td>38</td>\n",
       "      <td>30</td>\n",
       "      <td>65</td>\n",
       "    </tr>\n",
       "    <tr>\n",
       "      <th>53</th>\n",
       "      <td>75</td>\n",
       "      <td>41</td>\n",
       "      <td>46</td>\n",
       "      <td>34</td>\n",
       "      <td>87</td>\n",
       "    </tr>\n",
       "  </tbody>\n",
       "</table>\n",
       "</div>"
      ],
      "text/plain": [
       "    movie#1  movie#2  movie#3  movie#4  movie#5\n",
       "3        90       43       32        0       75\n",
       "71       83       35       38       30       65\n",
       "53       75       41       46       34       87"
      ]
     },
     "execution_count": 25,
     "metadata": {},
     "output_type": "execute_result"
    }
   ],
   "source": [
    "def get_neig(df: pd.DataFrame, i: int, k: int) -> pd.DataFrame:\n",
    "    scores_table = df[df.columns[1:]]\n",
    "    row = scores_table.iloc[i]\n",
    "    distances = np.linalg.norm(scores_table -row, axis=1)\n",
    "    #remove the user from user neighbors\n",
    "    nearest_neighbor_ids = distances.argsort()[1:k+1]\n",
    "    nearest_neighbors = scores_table.iloc[nearest_neighbor_ids]\n",
    "    return nearest_neighbors  # type: ignore\n",
    "\n",
    "get_neig(df, 0, 3)"
   ]
  },
  {
   "cell_type": "code",
   "execution_count": 26,
   "metadata": {},
   "outputs": [
    {
     "data": {
      "text/plain": [
       "47.625488930214345"
      ]
     },
     "execution_count": 26,
     "metadata": {},
     "output_type": "execute_result"
    }
   ],
   "source": [
    "import math\n",
    "from scipy import stats\n",
    "#helper funcs\n",
    "\n",
    "def get_scores(df, i):\n",
    "    return df.iloc[[i]][df.columns[1:]].values[0]\n",
    "\n",
    "#my implementation\n",
    "def get_wij(row_i, row_j):\n",
    "    average_i = np.average(row_i)\n",
    "    average_j = np.average(row_j)\n",
    "\n",
    "    top_a = row_i - average_i\n",
    "    top_b = row_j - average_j\n",
    "\n",
    "    top_array = top_a * top_b\n",
    "    top_value = np.sum(top_array)\n",
    "\n",
    "    bottom_a_squared = top_a ** 2\n",
    "    bottom_b_sum = np.sum(bottom_a_squared)\n",
    "    bottom_a_root = np.sqrt(bottom_b_sum)\n",
    "\n",
    "    bottom_b_squared = top_b ** 2\n",
    "    bottom_b_sum = np.sum(bottom_b_squared)\n",
    "    bottom_b_root = np.sqrt(bottom_b_sum)\n",
    "\n",
    "    bottom_value = bottom_a_root * bottom_b_root\n",
    "\n",
    "    return top_value/bottom_value\n",
    "\n",
    "#library implementation\n",
    "def get_wij_np(row_i, row_j):\n",
    "    return np.corrcoef([row_i, row_j])[1, 0]\n",
    "\n",
    "\n",
    "\n",
    "def get_rating(df: pd.DataFrame, i: int, a:int, k: int = 8):\n",
    "    person_scores = get_scores(df, i)\n",
    "    person_average = np.average(person_scores)\n",
    "\n",
    "    top = 0\n",
    "    bottom = 0\n",
    "\n",
    "    neighbors_scores = get_neig(df, i, k)\n",
    "\n",
    "    for index, scores in neighbors_scores.iterrows():\n",
    "        correlation_pearson_score = get_wij(person_scores, scores)\n",
    "        top += (scores[a] - np.average(scores)) * correlation_pearson_score\n",
    "        bottom += abs(correlation_pearson_score)\n",
    "\n",
    "\n",
    "    rating = person_average + (top/bottom)\n",
    "    return rating\n",
    "\n",
    "get_rating(df, 0, 1)"
   ]
  },
  {
   "cell_type": "code",
   "execution_count": 27,
   "metadata": {},
   "outputs": [
    {
     "data": {
      "text/plain": [
       "False"
      ]
     },
     "execution_count": 27,
     "metadata": {},
     "output_type": "execute_result"
    }
   ],
   "source": [
    "RATING_POINT = 75\n",
    "\n",
    "def should_watch(df: pd.DataFrame, i: int, a: int, k: int = 8):\n",
    "    rating = get_rating(df, i, a, k)\n",
    "    return rating >= RATING_POINT\n",
    "\n",
    "should_watch(df, 0, 1)"
   ]
  },
  {
   "cell_type": "code",
   "execution_count": 28,
   "metadata": {},
   "outputs": [
    {
     "name": "stdout",
     "output_type": "stream",
     "text": [
      "matches: 933, not matches: 67, error rate: 6.7\n"
     ]
    },
    {
     "data": {
      "text/plain": [
       "<BarContainer object of 2 artists>"
      ]
     },
     "execution_count": 28,
     "metadata": {},
     "output_type": "execute_result"
    },
    {
     "data": {
      "image/png": "[encoded data removed]",
      "text/plain": [
       "<Figure size 640x480 with 1 Axes>"
      ]
     },
     "metadata": {},
     "output_type": "display_data"
    }
   ],
   "source": [
    "import matplotlib.pyplot as plt\n",
    "\n",
    "def test_should_watch_diff(df: pd.DataFrame):\n",
    "    diff_arr = []\n",
    "    for row_idx in range(len(df)):\n",
    "        scores = get_scores(df, row_idx)\n",
    "        for score_idx, score in enumerate(scores):\n",
    "            calc_should_watch = should_watch(df, row_idx, score_idx)\n",
    "            real_should_watch = score >= RATING_POINT\n",
    "            diff_arr.append(calc_should_watch == real_should_watch)\n",
    "    \n",
    "    return diff_arr\n",
    "\n",
    "def percentage(part, whole):\n",
    "  return 100 * float(part)/float(whole)\n",
    "\n",
    "watch_diff = test_should_watch_diff(df)\n",
    "matches = list(filter(lambda x: x == True, watch_diff))\n",
    "not_matches = list(filter(lambda x: x == False, watch_diff))\n",
    "print(f\"matches: {len(matches)}, not matches: {len(not_matches)}, error rate: {percentage(len(not_matches), len(watch_diff))}\")\n",
    "plt.bar([\"match\", \"not match\"], [len(matches), len(not_matches)], color=[\"green\", \"red\"])"
   ]
  },
  {
   "cell_type": "code",
   "execution_count": 29,
   "metadata": {},
   "outputs": [
    {
     "name": "stdout",
     "output_type": "stream",
     "text": [
      "DIFF: average: 6.278753514862878, median: 4.879575630118836\n"
     ]
    },
    {
     "data": {
      "text/plain": [
       "[<matplotlib.lines.Line2D at 0x1ae4de59510>]"
      ]
     },
     "execution_count": 29,
     "metadata": {},
     "output_type": "execute_result"
    },
    {
     "data": {
      "image/png": "[encoded data removed]",
      "text/plain": [
       "<Figure size 640x480 with 1 Axes>"
      ]
     },
     "metadata": {},
     "output_type": "display_data"
    }
   ],
   "source": [
    "\n",
    "def test_score_diff(df: pd.DataFrame):\n",
    "    diff_arr = []\n",
    "    for row_idx in range(len(df)):\n",
    "        scores = get_scores(df, row_idx)\n",
    "        for score_idx, score in enumerate(scores):\n",
    "            calc_score = get_rating(df, row_idx, score_idx, 8)\n",
    "            diff = abs(score - calc_score)\n",
    "            diff_arr.append(diff)\n",
    "    \n",
    "    return diff_arr\n",
    "\n",
    "diff = test_score_diff(df)\n",
    "\n",
    "print(f\"DIFF: average: {np.average(diff)}, median: {np.median(diff)}\")\n",
    "plt.plot(np.arange(len(diff)), diff)"
   ]
  }
 ],
 "metadata": {
  "kernelspec": {
   "display_name": "Python 3.10.7 64-bit",
   "language": "python",
   "name": "python3"
  },
  "language_info": {
   "codemirror_mode": {
    "name": "ipython",
    "version": 3
   },
   "file_extension": ".py",
   "mimetype": "text/x-python",
   "name": "python",
   "nbconvert_exporter": "python",
   "pygments_lexer": "ipython3",
   "version": "3.10.7"
  },
  "orig_nbformat": 4,
  "vscode": {
   "interpreter": {
    "hash": "369f2c481f4da34e4445cda3fffd2e751bd1c4d706f27375911949ba6bb62e1c"
   }
  }
 },
 "nbformat": 4,
 "nbformat_minor": 2
}
