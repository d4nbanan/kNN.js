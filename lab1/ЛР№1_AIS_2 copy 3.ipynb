{
  "cells": [
    {
      "cell_type": "markdown",
      "metadata": {
        "id": "u2uFP88tghcq"
      },
      "source": [
        "#ЛР_1 Метод kNN своїми руками"
      ]
    },
    {
      "cell_type": "markdown",
      "metadata": {
        "id": "KgCsICiXsMyk"
      },
      "source": [
        "На основі даних з датасету [diabets](https://drive.google.com/file/d/1J5tToRZnkQDMfKjw9P1hJsHzz1Hek5xo/view?usp=sharing) необхідно побудувати модель, яка допомогає визначити наявність захворювання у пацієнів за певними ознаками. Для цього будемо використовувати метод *k* найближчих сусідів. "
      ]
    },
    {
      "cell_type": "code",
      "execution_count": 1,
      "metadata": {
        "id": "X9adT_kR7PoQ"
      },
      "outputs": [],
      "source": [
        "import numpy as np\n",
        "import pandas as pd\n",
        "import matplotlib.pyplot as plt\n",
        "import seaborn as sns\n",
        "sns.set()\n",
        "import warnings\n",
        "warnings.filterwarnings('ignore')\n",
        "%matplotlib inline"
      ]
    },
    {
      "cell_type": "markdown",
      "metadata": {
        "id": "RFHiUInJ4eTd"
      },
      "source": [
        "Дослідження даних у цій роботі ми реалізуємо за принципами **OSEMN Pipeline**:\n",
        "\n",
        "\n",
        "*   O - Obtaining data (Отримання даних)\n",
        "*   S - Scrubbing / Cleaning  data (Очистка даних)\n",
        "*   E - Exploring / Visualizing data (Вивчення/Візуалізація даних)\n",
        "*   M - Modeling data (Моделювання даних)\n",
        "*   N - Interpreting data (Інтепретація даних)\n",
        "\n",
        "\n",
        "Виконаємо ці кроки\n",
        "\n",
        "\n",
        "\n",
        "\n"
      ]
    },
    {
      "cell_type": "markdown",
      "metadata": {
        "id": "97RXHJOv6m4J"
      },
      "source": [
        "# O - Obtaining data (Отримання даних)"
      ]
    },
    {
      "cell_type": "markdown",
      "metadata": {
        "id": "gqWgj2jd7u0i"
      },
      "source": [
        "Завантажимо дані і подивимось на преші 5 рядків фрейму"
      ]
    },
    {
      "cell_type": "code",
      "execution_count": 2,
      "metadata": {
        "id": "dTgS7KeW6wBd"
      },
      "outputs": [],
      "source": [
        "#Ваш код \n",
        "df = pd.read_csv(\"diabetes.csv\")"
      ]
    },
    {
      "cell_type": "code",
      "execution_count": 3,
      "metadata": {
        "id": "dvg4-TLGIGad"
      },
      "outputs": [
        {
          "data": {
            "text/html": [
              "<div>\n",
              "<style scoped>\n",
              "    .dataframe tbody tr th:only-of-type {\n",
              "        vertical-align: middle;\n",
              "    }\n",
              "\n",
              "    .dataframe tbody tr th {\n",
              "        vertical-align: top;\n",
              "    }\n",
              "\n",
              "    .dataframe thead th {\n",
              "        text-align: right;\n",
              "    }\n",
              "</style>\n",
              "<table border=\"1\" class=\"dataframe\">\n",
              "  <thead>\n",
              "    <tr style=\"text-align: right;\">\n",
              "      <th></th>\n",
              "      <th>Pregnancies</th>\n",
              "      <th>Glucose</th>\n",
              "      <th>BloodPressure</th>\n",
              "      <th>SkinThickness</th>\n",
              "      <th>Insulin</th>\n",
              "      <th>BMI</th>\n",
              "      <th>DiabetesPedigreeFunction</th>\n",
              "      <th>Age</th>\n",
              "      <th>Outcome</th>\n",
              "    </tr>\n",
              "  </thead>\n",
              "  <tbody>\n",
              "    <tr>\n",
              "      <th>0</th>\n",
              "      <td>6</td>\n",
              "      <td>148</td>\n",
              "      <td>72</td>\n",
              "      <td>35</td>\n",
              "      <td>0</td>\n",
              "      <td>33.6</td>\n",
              "      <td>0.627</td>\n",
              "      <td>50</td>\n",
              "      <td>1</td>\n",
              "    </tr>\n",
              "    <tr>\n",
              "      <th>1</th>\n",
              "      <td>1</td>\n",
              "      <td>85</td>\n",
              "      <td>66</td>\n",
              "      <td>29</td>\n",
              "      <td>0</td>\n",
              "      <td>26.6</td>\n",
              "      <td>0.351</td>\n",
              "      <td>31</td>\n",
              "      <td>0</td>\n",
              "    </tr>\n",
              "    <tr>\n",
              "      <th>2</th>\n",
              "      <td>8</td>\n",
              "      <td>183</td>\n",
              "      <td>64</td>\n",
              "      <td>0</td>\n",
              "      <td>0</td>\n",
              "      <td>23.3</td>\n",
              "      <td>0.672</td>\n",
              "      <td>32</td>\n",
              "      <td>1</td>\n",
              "    </tr>\n",
              "    <tr>\n",
              "      <th>3</th>\n",
              "      <td>1</td>\n",
              "      <td>89</td>\n",
              "      <td>66</td>\n",
              "      <td>23</td>\n",
              "      <td>94</td>\n",
              "      <td>28.1</td>\n",
              "      <td>0.167</td>\n",
              "      <td>21</td>\n",
              "      <td>0</td>\n",
              "    </tr>\n",
              "    <tr>\n",
              "      <th>4</th>\n",
              "      <td>0</td>\n",
              "      <td>137</td>\n",
              "      <td>40</td>\n",
              "      <td>35</td>\n",
              "      <td>168</td>\n",
              "      <td>43.1</td>\n",
              "      <td>2.288</td>\n",
              "      <td>33</td>\n",
              "      <td>1</td>\n",
              "    </tr>\n",
              "  </tbody>\n",
              "</table>\n",
              "</div>"
            ],
            "text/plain": [
              "   Pregnancies  Glucose  BloodPressure  SkinThickness  Insulin   BMI  \\\n",
              "0            6      148             72             35        0  33.6   \n",
              "1            1       85             66             29        0  26.6   \n",
              "2            8      183             64              0        0  23.3   \n",
              "3            1       89             66             23       94  28.1   \n",
              "4            0      137             40             35      168  43.1   \n",
              "\n",
              "   DiabetesPedigreeFunction  Age  Outcome  \n",
              "0                     0.627   50        1  \n",
              "1                     0.351   31        0  \n",
              "2                     0.672   32        1  \n",
              "3                     0.167   21        0  \n",
              "4                     2.288   33        1  "
            ]
          },
          "execution_count": 3,
          "metadata": {},
          "output_type": "execute_result"
        }
      ],
      "source": [
        "#Ваш код\n",
        "df.head()"
      ]
    },
    {
      "cell_type": "markdown",
      "metadata": {
        "id": "fGL5fVXA6cPv"
      },
      "source": [
        "Виконаємо базовий EDA та статистичний аналіз даних \n",
        "\n",
        "\n",
        "---\n",
        "\n",
        "\n",
        "EDA - Exploratory data analysis (пошуковий аналіз даних)"
      ]
    },
    {
      "cell_type": "markdown",
      "metadata": {
        "id": "YPMWN47x95yT"
      },
      "source": [
        "Отримайте інформацію про типи даних, стовпці, кількість нульових значень, використання пам’яті тощо за допомогою методу датафрейму [`.info()`](https://pandas.pydata.org/docs/reference/api/pandas.DataFrame.info.html?highlight=pandas%20dataframe%20info#pandas.DataFrame.info)"
      ]
    },
    {
      "cell_type": "code",
      "execution_count": 4,
      "metadata": {
        "id": "VKIBBXqj-Iop"
      },
      "outputs": [
        {
          "name": "stdout",
          "output_type": "stream",
          "text": [
            "<class 'pandas.core.frame.DataFrame'>\n",
            "RangeIndex: 768 entries, 0 to 767\n",
            "Data columns (total 9 columns):\n",
            " #   Column                    Non-Null Count  Dtype  \n",
            "---  ------                    --------------  -----  \n",
            " 0   Pregnancies               768 non-null    int64  \n",
            " 1   Glucose                   768 non-null    int64  \n",
            " 2   BloodPressure             768 non-null    int64  \n",
            " 3   SkinThickness             768 non-null    int64  \n",
            " 4   Insulin                   768 non-null    int64  \n",
            " 5   BMI                       768 non-null    float64\n",
            " 6   DiabetesPedigreeFunction  768 non-null    float64\n",
            " 7   Age                       768 non-null    int64  \n",
            " 8   Outcome                   768 non-null    int64  \n",
            "dtypes: float64(2), int64(7)\n",
            "memory usage: 54.1 KB\n"
          ]
        }
      ],
      "source": [
        "#Ваш код\n",
        "df.info()"
      ]
    },
    {
      "cell_type": "markdown",
      "metadata": {
        "id": "8eNiOGh--ZNy"
      },
      "source": [
        "Тепер давайте розберемося зі статистикою, яку генерує метод датафрейму [`.describe()`](https://pandas.pydata.org/docs/reference/api/pandas.DataFrame.describe.html?highlight=pandas%20dataframe%20describe#pandas.DataFrame.describe):\n",
        "\n",
        "*   `count` повідомляє нам кількість NoN-порожніх рядків у ознаки.\n",
        "*   `mean` повідомляє нам середнє значення цієї ознаки.\n",
        "*   `std` повідомляє нам значення стандартного відхилення цієї ознаки.\n",
        "*   `min` повідомляє нам мінімальне значення цієї ознаки.\n",
        "*  ` 25%, 50% і 75% `– це процентиль/квартиль кожної ознаки. Ця квартильна інформація допомагає нам виявити викиди.\n",
        "*   `max` повідомляє нам максимальне значення цієї ознаки.\n",
        "\n",
        "\n",
        "\n"
      ]
    },
    {
      "cell_type": "code",
      "execution_count": 5,
      "metadata": {
        "id": "jRnyg5fj-9t_"
      },
      "outputs": [
        {
          "data": {
            "text/html": [
              "<div>\n",
              "<style scoped>\n",
              "    .dataframe tbody tr th:only-of-type {\n",
              "        vertical-align: middle;\n",
              "    }\n",
              "\n",
              "    .dataframe tbody tr th {\n",
              "        vertical-align: top;\n",
              "    }\n",
              "\n",
              "    .dataframe thead th {\n",
              "        text-align: right;\n",
              "    }\n",
              "</style>\n",
              "<table border=\"1\" class=\"dataframe\">\n",
              "  <thead>\n",
              "    <tr style=\"text-align: right;\">\n",
              "      <th></th>\n",
              "      <th>Pregnancies</th>\n",
              "      <th>Glucose</th>\n",
              "      <th>BloodPressure</th>\n",
              "      <th>SkinThickness</th>\n",
              "      <th>Insulin</th>\n",
              "      <th>BMI</th>\n",
              "      <th>DiabetesPedigreeFunction</th>\n",
              "      <th>Age</th>\n",
              "      <th>Outcome</th>\n",
              "    </tr>\n",
              "  </thead>\n",
              "  <tbody>\n",
              "    <tr>\n",
              "      <th>count</th>\n",
              "      <td>768.000000</td>\n",
              "      <td>768.000000</td>\n",
              "      <td>768.000000</td>\n",
              "      <td>768.000000</td>\n",
              "      <td>768.000000</td>\n",
              "      <td>768.000000</td>\n",
              "      <td>768.000000</td>\n",
              "      <td>768.000000</td>\n",
              "      <td>768.000000</td>\n",
              "    </tr>\n",
              "    <tr>\n",
              "      <th>mean</th>\n",
              "      <td>3.845052</td>\n",
              "      <td>120.894531</td>\n",
              "      <td>69.105469</td>\n",
              "      <td>20.536458</td>\n",
              "      <td>79.799479</td>\n",
              "      <td>31.992578</td>\n",
              "      <td>0.471876</td>\n",
              "      <td>33.240885</td>\n",
              "      <td>0.348958</td>\n",
              "    </tr>\n",
              "    <tr>\n",
              "      <th>std</th>\n",
              "      <td>3.369578</td>\n",
              "      <td>31.972618</td>\n",
              "      <td>19.355807</td>\n",
              "      <td>15.952218</td>\n",
              "      <td>115.244002</td>\n",
              "      <td>7.884160</td>\n",
              "      <td>0.331329</td>\n",
              "      <td>11.760232</td>\n",
              "      <td>0.476951</td>\n",
              "    </tr>\n",
              "    <tr>\n",
              "      <th>min</th>\n",
              "      <td>0.000000</td>\n",
              "      <td>0.000000</td>\n",
              "      <td>0.000000</td>\n",
              "      <td>0.000000</td>\n",
              "      <td>0.000000</td>\n",
              "      <td>0.000000</td>\n",
              "      <td>0.078000</td>\n",
              "      <td>21.000000</td>\n",
              "      <td>0.000000</td>\n",
              "    </tr>\n",
              "    <tr>\n",
              "      <th>25%</th>\n",
              "      <td>1.000000</td>\n",
              "      <td>99.000000</td>\n",
              "      <td>62.000000</td>\n",
              "      <td>0.000000</td>\n",
              "      <td>0.000000</td>\n",
              "      <td>27.300000</td>\n",
              "      <td>0.243750</td>\n",
              "      <td>24.000000</td>\n",
              "      <td>0.000000</td>\n",
              "    </tr>\n",
              "    <tr>\n",
              "      <th>50%</th>\n",
              "      <td>3.000000</td>\n",
              "      <td>117.000000</td>\n",
              "      <td>72.000000</td>\n",
              "      <td>23.000000</td>\n",
              "      <td>30.500000</td>\n",
              "      <td>32.000000</td>\n",
              "      <td>0.372500</td>\n",
              "      <td>29.000000</td>\n",
              "      <td>0.000000</td>\n",
              "    </tr>\n",
              "    <tr>\n",
              "      <th>75%</th>\n",
              "      <td>6.000000</td>\n",
              "      <td>140.250000</td>\n",
              "      <td>80.000000</td>\n",
              "      <td>32.000000</td>\n",
              "      <td>127.250000</td>\n",
              "      <td>36.600000</td>\n",
              "      <td>0.626250</td>\n",
              "      <td>41.000000</td>\n",
              "      <td>1.000000</td>\n",
              "    </tr>\n",
              "    <tr>\n",
              "      <th>max</th>\n",
              "      <td>17.000000</td>\n",
              "      <td>199.000000</td>\n",
              "      <td>122.000000</td>\n",
              "      <td>99.000000</td>\n",
              "      <td>846.000000</td>\n",
              "      <td>67.100000</td>\n",
              "      <td>2.420000</td>\n",
              "      <td>81.000000</td>\n",
              "      <td>1.000000</td>\n",
              "    </tr>\n",
              "  </tbody>\n",
              "</table>\n",
              "</div>"
            ],
            "text/plain": [
              "       Pregnancies     Glucose  BloodPressure  SkinThickness     Insulin  \\\n",
              "count   768.000000  768.000000     768.000000     768.000000  768.000000   \n",
              "mean      3.845052  120.894531      69.105469      20.536458   79.799479   \n",
              "std       3.369578   31.972618      19.355807      15.952218  115.244002   \n",
              "min       0.000000    0.000000       0.000000       0.000000    0.000000   \n",
              "25%       1.000000   99.000000      62.000000       0.000000    0.000000   \n",
              "50%       3.000000  117.000000      72.000000      23.000000   30.500000   \n",
              "75%       6.000000  140.250000      80.000000      32.000000  127.250000   \n",
              "max      17.000000  199.000000     122.000000      99.000000  846.000000   \n",
              "\n",
              "              BMI  DiabetesPedigreeFunction         Age     Outcome  \n",
              "count  768.000000                768.000000  768.000000  768.000000  \n",
              "mean    31.992578                  0.471876   33.240885    0.348958  \n",
              "std      7.884160                  0.331329   11.760232    0.476951  \n",
              "min      0.000000                  0.078000   21.000000    0.000000  \n",
              "25%     27.300000                  0.243750   24.000000    0.000000  \n",
              "50%     32.000000                  0.372500   29.000000    0.000000  \n",
              "75%     36.600000                  0.626250   41.000000    1.000000  \n",
              "max     67.100000                  2.420000   81.000000    1.000000  "
            ]
          },
          "execution_count": 5,
          "metadata": {},
          "output_type": "execute_result"
        }
      ],
      "source": [
        "#Ваш код\n",
        "df.describe()"
      ]
    },
    {
      "cell_type": "markdown",
      "metadata": {
        "id": "_E5BjlXRAkGQ"
      },
      "source": [
        "Для комфортного сприйняття інформації, розвернемо цей звіт: `ваш_датафрейм.describe().T`"
      ]
    },
    {
      "cell_type": "code",
      "execution_count": 6,
      "metadata": {
        "id": "BBoT7BxbA78z"
      },
      "outputs": [
        {
          "data": {
            "text/html": [
              "<div>\n",
              "<style scoped>\n",
              "    .dataframe tbody tr th:only-of-type {\n",
              "        vertical-align: middle;\n",
              "    }\n",
              "\n",
              "    .dataframe tbody tr th {\n",
              "        vertical-align: top;\n",
              "    }\n",
              "\n",
              "    .dataframe thead th {\n",
              "        text-align: right;\n",
              "    }\n",
              "</style>\n",
              "<table border=\"1\" class=\"dataframe\">\n",
              "  <thead>\n",
              "    <tr style=\"text-align: right;\">\n",
              "      <th></th>\n",
              "      <th>count</th>\n",
              "      <th>mean</th>\n",
              "      <th>std</th>\n",
              "      <th>min</th>\n",
              "      <th>25%</th>\n",
              "      <th>50%</th>\n",
              "      <th>75%</th>\n",
              "      <th>max</th>\n",
              "    </tr>\n",
              "  </thead>\n",
              "  <tbody>\n",
              "    <tr>\n",
              "      <th>Pregnancies</th>\n",
              "      <td>768.0</td>\n",
              "      <td>3.845052</td>\n",
              "      <td>3.369578</td>\n",
              "      <td>0.000</td>\n",
              "      <td>1.00000</td>\n",
              "      <td>3.0000</td>\n",
              "      <td>6.00000</td>\n",
              "      <td>17.00</td>\n",
              "    </tr>\n",
              "    <tr>\n",
              "      <th>Glucose</th>\n",
              "      <td>768.0</td>\n",
              "      <td>120.894531</td>\n",
              "      <td>31.972618</td>\n",
              "      <td>0.000</td>\n",
              "      <td>99.00000</td>\n",
              "      <td>117.0000</td>\n",
              "      <td>140.25000</td>\n",
              "      <td>199.00</td>\n",
              "    </tr>\n",
              "    <tr>\n",
              "      <th>BloodPressure</th>\n",
              "      <td>768.0</td>\n",
              "      <td>69.105469</td>\n",
              "      <td>19.355807</td>\n",
              "      <td>0.000</td>\n",
              "      <td>62.00000</td>\n",
              "      <td>72.0000</td>\n",
              "      <td>80.00000</td>\n",
              "      <td>122.00</td>\n",
              "    </tr>\n",
              "    <tr>\n",
              "      <th>SkinThickness</th>\n",
              "      <td>768.0</td>\n",
              "      <td>20.536458</td>\n",
              "      <td>15.952218</td>\n",
              "      <td>0.000</td>\n",
              "      <td>0.00000</td>\n",
              "      <td>23.0000</td>\n",
              "      <td>32.00000</td>\n",
              "      <td>99.00</td>\n",
              "    </tr>\n",
              "    <tr>\n",
              "      <th>Insulin</th>\n",
              "      <td>768.0</td>\n",
              "      <td>79.799479</td>\n",
              "      <td>115.244002</td>\n",
              "      <td>0.000</td>\n",
              "      <td>0.00000</td>\n",
              "      <td>30.5000</td>\n",
              "      <td>127.25000</td>\n",
              "      <td>846.00</td>\n",
              "    </tr>\n",
              "    <tr>\n",
              "      <th>BMI</th>\n",
              "      <td>768.0</td>\n",
              "      <td>31.992578</td>\n",
              "      <td>7.884160</td>\n",
              "      <td>0.000</td>\n",
              "      <td>27.30000</td>\n",
              "      <td>32.0000</td>\n",
              "      <td>36.60000</td>\n",
              "      <td>67.10</td>\n",
              "    </tr>\n",
              "    <tr>\n",
              "      <th>DiabetesPedigreeFunction</th>\n",
              "      <td>768.0</td>\n",
              "      <td>0.471876</td>\n",
              "      <td>0.331329</td>\n",
              "      <td>0.078</td>\n",
              "      <td>0.24375</td>\n",
              "      <td>0.3725</td>\n",
              "      <td>0.62625</td>\n",
              "      <td>2.42</td>\n",
              "    </tr>\n",
              "    <tr>\n",
              "      <th>Age</th>\n",
              "      <td>768.0</td>\n",
              "      <td>33.240885</td>\n",
              "      <td>11.760232</td>\n",
              "      <td>21.000</td>\n",
              "      <td>24.00000</td>\n",
              "      <td>29.0000</td>\n",
              "      <td>41.00000</td>\n",
              "      <td>81.00</td>\n",
              "    </tr>\n",
              "    <tr>\n",
              "      <th>Outcome</th>\n",
              "      <td>768.0</td>\n",
              "      <td>0.348958</td>\n",
              "      <td>0.476951</td>\n",
              "      <td>0.000</td>\n",
              "      <td>0.00000</td>\n",
              "      <td>0.0000</td>\n",
              "      <td>1.00000</td>\n",
              "      <td>1.00</td>\n",
              "    </tr>\n",
              "  </tbody>\n",
              "</table>\n",
              "</div>"
            ],
            "text/plain": [
              "                          count        mean         std     min       25%  \\\n",
              "Pregnancies               768.0    3.845052    3.369578   0.000   1.00000   \n",
              "Glucose                   768.0  120.894531   31.972618   0.000  99.00000   \n",
              "BloodPressure             768.0   69.105469   19.355807   0.000  62.00000   \n",
              "SkinThickness             768.0   20.536458   15.952218   0.000   0.00000   \n",
              "Insulin                   768.0   79.799479  115.244002   0.000   0.00000   \n",
              "BMI                       768.0   31.992578    7.884160   0.000  27.30000   \n",
              "DiabetesPedigreeFunction  768.0    0.471876    0.331329   0.078   0.24375   \n",
              "Age                       768.0   33.240885   11.760232  21.000  24.00000   \n",
              "Outcome                   768.0    0.348958    0.476951   0.000   0.00000   \n",
              "\n",
              "                               50%        75%     max  \n",
              "Pregnancies                 3.0000    6.00000   17.00  \n",
              "Glucose                   117.0000  140.25000  199.00  \n",
              "BloodPressure              72.0000   80.00000  122.00  \n",
              "SkinThickness              23.0000   32.00000   99.00  \n",
              "Insulin                    30.5000  127.25000  846.00  \n",
              "BMI                        32.0000   36.60000   67.10  \n",
              "DiabetesPedigreeFunction    0.3725    0.62625    2.42  \n",
              "Age                        29.0000   41.00000   81.00  \n",
              "Outcome                     0.0000    1.00000    1.00  "
            ]
          },
          "execution_count": 6,
          "metadata": {},
          "output_type": "execute_result"
        }
      ],
      "source": [
        "#Ваш код\n",
        "df.describe().T"
      ]
    },
    {
      "cell_type": "markdown",
      "metadata": {
        "id": "6LkNxZSzLJqq"
      },
      "source": [
        "# S - Scrubbing / Cleaning data (Очистка даних)"
      ]
    },
    {
      "cell_type": "markdown",
      "metadata": {
        "id": "tvGLzdz_BBFf"
      },
      "source": [
        "А тепер поміркуємо над сенсом даних: подивіться на стовпчик `min`: серед ознак чимало даних з нульвим мінімальним значенням. Нам потрібно зрозуміти, *чи може мінімальне значення деяких ознак дорівнювати нулю?*"
      ]
    },
    {
      "cell_type": "markdown",
      "metadata": {
        "id": "mUw1uRDSB4u3"
      },
      "source": [
        "*   ознака Pregnancies - вочевидь, кількість вагітностей пацієнта може дорівнювати 0\n",
        "*   ознака Glucose - рівень глюкози у крові НЕ може бути нульовим\n",
        "*   ознака BloodPressure - кровяний тиск пацієнтів також НЕ може бути на нулі\n",
        "*   ознака SkinThickness - товщина шкіри НЕ може бути нульовою\n",
        "*   ознака Insulin - рівень інсуліну НЕ може бути нульовим\n",
        "*   ознака BMI - індекс маси тіла (зріст/вага) НЕ може бути нульовим\n",
        "*   ознака Outcome - це цільова ознака, тобто бінарна відповідь на об'єкті, нульове значення якої свідчить про відсутність хвороби, а одиниця - про наявність\n"
      ]
    },
    {
      "cell_type": "markdown",
      "metadata": {
        "id": "zbo0snC5EqHT"
      },
      "source": [
        "Отже, ознаки **Glucose, BloodPressure, SkinThickness, Insulin** та **BMI** не можуть приймати нульове значення. А наявність нулів свідчить про пропущені значення"
      ]
    },
    {
      "cell_type": "markdown",
      "metadata": {
        "id": "MF1gNtRGBpfG"
      },
      "source": [
        "Краще замінити нулі на `nan`, оскільки після цього їх буде легше рахувати і розуміти дані. Для цього скористайтесь методом датафрейму [`.replace(0,np.NaN)`](https://pandas.pydata.org/docs/reference/api/pandas.DataFrame.replace.html?highlight=pandas%20dataframe%20replace#pandas.DataFrame.replace) для тих ознак, які не можуть бути нульовими. Виведіть кількість відсутніх значень за допомогою методу датафрейму [`.sum()`](https://pandas.pydata.org/docs/reference/api/pandas.DataFrame.sum.html?highlight=pandas%20dataframe%20sum#pandas.DataFrame.sum)"
      ]
    },
    {
      "cell_type": "code",
      "execution_count": 7,
      "metadata": {
        "id": "AC8iyx-7K7wp"
      },
      "outputs": [
        {
          "data": {
            "text/plain": [
              "Pregnancies                   0\n",
              "Glucose                       5\n",
              "BloodPressure                35\n",
              "SkinThickness               227\n",
              "Insulin                     374\n",
              "BMI                          11\n",
              "DiabetesPedigreeFunction      0\n",
              "Age                           0\n",
              "Outcome                       0\n",
              "dtype: int64"
            ]
          },
          "execution_count": 7,
          "metadata": {},
          "output_type": "execute_result"
        }
      ],
      "source": [
        "#Ваш код\n",
        "df[\"Glucose\"] = df[\"Glucose\"].replace(0, np.NaN)\n",
        "df[\"BloodPressure\"] = df[\"BloodPressure\"].replace(0, np.NaN)\n",
        "df[\"SkinThickness\"] = df[\"SkinThickness\"].replace(0, np.NaN)\n",
        "df[\"Insulin\"] = df[\"Insulin\"].replace(0, np.NaN)\n",
        "df[\"BMI\"] = df[\"BMI\"].replace(0, np.NaN)\n",
        "\n",
        "\n",
        "#Ваш код\n",
        "df.isna().sum()"
      ]
    },
    {
      "cell_type": "markdown",
      "metadata": {
        "id": "veF5rwo2LG0q"
      },
      "source": [
        "Тепер бачимо, що деякі ознаки мають достатньо велику кількість пропущених значень. Маємо з цим щось робити. Перше, що спадає на думку, видалити об'єкти з відсутніми значеннями. І, так, це один з варіантів вирішення проблеми. Він є безболісним у випадку великих датастів, коли втрата кількох сотен об'єктів не відіграє значної ролі для моделі. Давайте оцінимо, чи можимо ми застосувати таку жорстокість до нашого датафрейму - вивідемо його ромір"
      ]
    },
    {
      "cell_type": "code",
      "execution_count": 8,
      "metadata": {
        "id": "Z9ftOZiDMyIq"
      },
      "outputs": [
        {
          "data": {
            "text/plain": [
              "(768, 9)"
            ]
          },
          "execution_count": 8,
          "metadata": {},
          "output_type": "execute_result"
        }
      ],
      "source": [
        "#Ваш код\n",
        "df.shape"
      ]
    },
    {
      "cell_type": "markdown",
      "metadata": {
        "id": "YAheRmRANHh8"
      },
      "source": [
        "Бачимо, що видалення відсутніх значень призведе до втрати майже 50% даних. То такий варіант не підходить."
      ]
    },
    {
      "cell_type": "markdown",
      "metadata": {
        "id": "RRtr3jAJR8Ou"
      },
      "source": [
        "Взагалі-то, процедура відновлення даних називається **ІМПУТАЦІЯ**, і один з варіантів імпутації ви вже знаєте - інтерполяція. Є ще один підхід - замінити пропущені значення однією з мір центральної тенденції (середнє, медіана, мода). Так і вчинемо з нашим датасетом: знайдемо міру центральної тенеденції кожної з п'яти ознак (**Glucose**, **BloodPressure**, **SkinThickness**, **Insulin**, **BMI**) і замінемо цими значеннями пропущені дані у відповідних ознаках. "
      ]
    },
    {
      "cell_type": "markdown",
      "metadata": {
        "id": "Q5TJv_nvNbnu"
      },
      "source": [
        "Але спочатку потрібно визначитись, на яку з мір центральної тенденції будемо робити заміну і для яких ознак. Для того, щоб відповісти на це питання, потрібно подивитись на розподіл ознак. Виведіть діаграми розподілу (гістограми) ознак, скориставшись методом датафрейму [`.hist()`](https://pandas.pydata.org/docs/reference/api/pandas.DataFrame.hist.html?highlight=pandas%20dataframe%20hist#pandas.DataFrame.hist). Параметром цього методу можна задати розмір гісторам, наприклад, `figsize = (10,10)`"
      ]
    },
    {
      "cell_type": "code",
      "execution_count": 9,
      "metadata": {
        "id": "4gzhVt7VVCTD"
      },
      "outputs": [
        {
          "data": {
            "text/plain": [
              "array([[<AxesSubplot:title={'center':'Pregnancies'}>,\n",
              "        <AxesSubplot:title={'center':'Glucose'}>,\n",
              "        <AxesSubplot:title={'center':'BloodPressure'}>],\n",
              "       [<AxesSubplot:title={'center':'SkinThickness'}>,\n",
              "        <AxesSubplot:title={'center':'Insulin'}>,\n",
              "        <AxesSubplot:title={'center':'BMI'}>],\n",
              "       [<AxesSubplot:title={'center':'DiabetesPedigreeFunction'}>,\n",
              "        <AxesSubplot:title={'center':'Age'}>,\n",
              "        <AxesSubplot:title={'center':'Outcome'}>]], dtype=object)"
            ]
          },
          "execution_count": 9,
          "metadata": {},
          "output_type": "execute_result"
        },
        {
          "data": {
            "image/png": "[encoded data removed]",
            "text/plain": [
              "<Figure size 720x720 with 9 Axes>"
            ]
          },
          "metadata": {
            "needs_background": "light"
          },
          "output_type": "display_data"
        }
      ],
      "source": [
        "#Ваш код\n",
        "df.hist(figsize=(10, 10))"
      ]
    },
    {
      "cell_type": "markdown",
      "metadata": {
        "id": "7_kPmeVsVnUc"
      },
      "source": [
        "Одразу шукаємо ознаки з симетричним нормальним розподілом - це ознаки **Glucose, BloodPressure** і **BMI**. Для них у якості заміни пропущених значень застосуємо середнє значення - метод датафрейму [`.mean()`](https://pandas.pydata.org/docs/reference/api/pandas.DataFrame.mean.html?highlight=pandas%20dataframe%20mean#pandas.DataFrame.mean).  Для решти ознак - **SkinThickness** і **Insulin**, які мають правосторонній перекос, доречно застосувати медіану - метод датафрейму [`.median()`](https://pandas.pydata.org/docs/reference/api/pandas.DataFrame.median.html?highlight=pandas%20dataframe%20median#pandas.DataFrame.median). "
      ]
    },
    {
      "cell_type": "markdown",
      "metadata": {
        "id": "GGKZDR__Ygl-"
      },
      "source": [
        "Для реалізації заміни скористуємось методом датафрейму  [`.fillna()`](https://pandas.pydata.org/docs/reference/api/pandas.DataFrame.fillna.html). Важливо: обов'язково застосовуйте параметр `inplace = True` для того, щоб заміни не створювались у додаткових стовпцях, а підмінили собою існуючі!"
      ]
    },
    {
      "cell_type": "code",
      "execution_count": 10,
      "metadata": {
        "id": "F3P3w3upPVYQ"
      },
      "outputs": [],
      "source": [
        "#Ваш код\n",
        "df[\"Glucose\"].fillna(df[\"Glucose\"].mean(), inplace=True)\n",
        "df[\"BloodPressure\"].fillna(df[\"BloodPressure\"].mean(), inplace=True)\n",
        "df[\"SkinThickness\"].fillna(df[\"SkinThickness\"].mean(), inplace=True)\n",
        "\n",
        "df[\"Insulin\"].fillna(df[\"Insulin\"].median(), inplace=True)\n",
        "df[\"BMI\"].fillna(df[\"BMI\"].median(), inplace=True)\n"
      ]
    },
    {
      "cell_type": "markdown",
      "metadata": {
        "id": "2PL-ADX9TP4l"
      },
      "source": [
        "# E - Exploring / Visualizing data (Вивчення/Візуалізація даних)"
      ]
    },
    {
      "cell_type": "markdown",
      "metadata": {
        "id": "7_iP_OlbT2tP"
      },
      "source": [
        "На цьому етапі потрібно отримати повне уявлення про дані, з якими ми працюємо. Перш за все, необхідно вивчити цільову ознаку, тобто відповіді на об'єктах. Вони знаходяться у стовпці **Outcome**. Раніше вже йшлося про те, що відповіді бінарні, і приймають значення 0 або 1. Розв'язувана задача належить до класу бінарної класифікації, а значення 0 і 1 є мітками класів \"*захворювання не виявлене*\" і \"*захворювання виявлене*\" відповідно.  "
      ]
    },
    {
      "cell_type": "markdown",
      "metadata": {
        "id": "EOHxT2G1eDen"
      },
      "source": [
        "Для побудови адекватної класифікаційної моделі важливо знати баланс класів, тому що від цьго залежить вибір метрики якості моделі. Подивимось на співвідношення об'єктів обох класів. Виведіть стовпчату діаграму (`kind = bar`), де кожен бар - то кількість об'єктів відповідного класу. Кількість об'єктів у стовпці датафрейму можна визначити за допомогою методу [`value_counts()`](https://pandas.pydata.org/docs/reference/api/pandas.DataFrame.value_counts.html?highlight=pandas%20dataframe%20value_counts#pandas.DataFrame.value_counts)"
      ]
    },
    {
      "cell_type": "code",
      "execution_count": 11,
      "metadata": {
        "id": "dcW1clkleWN7"
      },
      "outputs": [
        {
          "data": {
            "text/plain": [
              "<AxesSubplot:>"
            ]
          },
          "execution_count": 11,
          "metadata": {},
          "output_type": "execute_result"
        },
        {
          "data": {
            "image/png": "[encoded data removed]",
            "text/plain": [
              "<Figure size 432x288 with 1 Axes>"
            ]
          },
          "metadata": {
            "needs_background": "light"
          },
          "output_type": "display_data"
        }
      ],
      "source": [
        "#Ваш код\n",
        "df[\"Outcome\"].value_counts().plot(kind=\"bar\")"
      ]
    },
    {
      "cell_type": "markdown",
      "metadata": {
        "id": "JE8cG3cZeZBX"
      },
      "source": [
        "На графіку видно, що здорових людей вдвічі більше за хворих на цукровий діабет. Тобто вибірка незбалансована."
      ]
    },
    {
      "cell_type": "markdown",
      "metadata": {
        "id": "ciG87EdRN5Pu"
      },
      "source": [
        "Тепер необхідно проаналізувати чи не корелюють ознаки між собою. Коефіцієнт кореляції Пірсона допомагає з’ясувати зв’язок між двома величинами. Значення коефіцієнта кореляції Пірсона може бути від -1 до +1. 1 означає, що вони сильно корельовані, а 0 означає відсутність кореляції. Можна вивести матрицю кореляцій Пірсона методом [`.corr()`](https://pandas.pydata.org/docs/reference/api/pandas.DataFrame.corr.html?highlight=pandas%20dataframe%20corr#pandas.DataFrame.corr)"
      ]
    },
    {
      "cell_type": "code",
      "execution_count": 12,
      "metadata": {
        "id": "YohfmXeAO8d-"
      },
      "outputs": [
        {
          "data": {
            "text/html": [
              "<div>\n",
              "<style scoped>\n",
              "    .dataframe tbody tr th:only-of-type {\n",
              "        vertical-align: middle;\n",
              "    }\n",
              "\n",
              "    .dataframe tbody tr th {\n",
              "        vertical-align: top;\n",
              "    }\n",
              "\n",
              "    .dataframe thead th {\n",
              "        text-align: right;\n",
              "    }\n",
              "</style>\n",
              "<table border=\"1\" class=\"dataframe\">\n",
              "  <thead>\n",
              "    <tr style=\"text-align: right;\">\n",
              "      <th></th>\n",
              "      <th>Pregnancies</th>\n",
              "      <th>Glucose</th>\n",
              "      <th>BloodPressure</th>\n",
              "      <th>SkinThickness</th>\n",
              "      <th>Insulin</th>\n",
              "      <th>BMI</th>\n",
              "      <th>DiabetesPedigreeFunction</th>\n",
              "      <th>Age</th>\n",
              "      <th>Outcome</th>\n",
              "    </tr>\n",
              "  </thead>\n",
              "  <tbody>\n",
              "    <tr>\n",
              "      <th>Pregnancies</th>\n",
              "      <td>1.000000</td>\n",
              "      <td>0.127911</td>\n",
              "      <td>0.208522</td>\n",
              "      <td>0.082989</td>\n",
              "      <td>0.025047</td>\n",
              "      <td>0.021559</td>\n",
              "      <td>-0.033523</td>\n",
              "      <td>0.544341</td>\n",
              "      <td>0.221898</td>\n",
              "    </tr>\n",
              "    <tr>\n",
              "      <th>Glucose</th>\n",
              "      <td>0.127911</td>\n",
              "      <td>1.000000</td>\n",
              "      <td>0.218367</td>\n",
              "      <td>0.192991</td>\n",
              "      <td>0.419064</td>\n",
              "      <td>0.231128</td>\n",
              "      <td>0.137060</td>\n",
              "      <td>0.266534</td>\n",
              "      <td>0.492928</td>\n",
              "    </tr>\n",
              "    <tr>\n",
              "      <th>BloodPressure</th>\n",
              "      <td>0.208522</td>\n",
              "      <td>0.218367</td>\n",
              "      <td>1.000000</td>\n",
              "      <td>0.192816</td>\n",
              "      <td>0.045087</td>\n",
              "      <td>0.281199</td>\n",
              "      <td>-0.002763</td>\n",
              "      <td>0.324595</td>\n",
              "      <td>0.166074</td>\n",
              "    </tr>\n",
              "    <tr>\n",
              "      <th>SkinThickness</th>\n",
              "      <td>0.082989</td>\n",
              "      <td>0.192991</td>\n",
              "      <td>0.192816</td>\n",
              "      <td>1.000000</td>\n",
              "      <td>0.154678</td>\n",
              "      <td>0.542438</td>\n",
              "      <td>0.100966</td>\n",
              "      <td>0.127872</td>\n",
              "      <td>0.215299</td>\n",
              "    </tr>\n",
              "    <tr>\n",
              "      <th>Insulin</th>\n",
              "      <td>0.025047</td>\n",
              "      <td>0.419064</td>\n",
              "      <td>0.045087</td>\n",
              "      <td>0.154678</td>\n",
              "      <td>1.000000</td>\n",
              "      <td>0.180241</td>\n",
              "      <td>0.126503</td>\n",
              "      <td>0.097101</td>\n",
              "      <td>0.203790</td>\n",
              "    </tr>\n",
              "    <tr>\n",
              "      <th>BMI</th>\n",
              "      <td>0.021559</td>\n",
              "      <td>0.231128</td>\n",
              "      <td>0.281199</td>\n",
              "      <td>0.542438</td>\n",
              "      <td>0.180241</td>\n",
              "      <td>1.000000</td>\n",
              "      <td>0.153438</td>\n",
              "      <td>0.025597</td>\n",
              "      <td>0.312038</td>\n",
              "    </tr>\n",
              "    <tr>\n",
              "      <th>DiabetesPedigreeFunction</th>\n",
              "      <td>-0.033523</td>\n",
              "      <td>0.137060</td>\n",
              "      <td>-0.002763</td>\n",
              "      <td>0.100966</td>\n",
              "      <td>0.126503</td>\n",
              "      <td>0.153438</td>\n",
              "      <td>1.000000</td>\n",
              "      <td>0.033561</td>\n",
              "      <td>0.173844</td>\n",
              "    </tr>\n",
              "    <tr>\n",
              "      <th>Age</th>\n",
              "      <td>0.544341</td>\n",
              "      <td>0.266534</td>\n",
              "      <td>0.324595</td>\n",
              "      <td>0.127872</td>\n",
              "      <td>0.097101</td>\n",
              "      <td>0.025597</td>\n",
              "      <td>0.033561</td>\n",
              "      <td>1.000000</td>\n",
              "      <td>0.238356</td>\n",
              "    </tr>\n",
              "    <tr>\n",
              "      <th>Outcome</th>\n",
              "      <td>0.221898</td>\n",
              "      <td>0.492928</td>\n",
              "      <td>0.166074</td>\n",
              "      <td>0.215299</td>\n",
              "      <td>0.203790</td>\n",
              "      <td>0.312038</td>\n",
              "      <td>0.173844</td>\n",
              "      <td>0.238356</td>\n",
              "      <td>1.000000</td>\n",
              "    </tr>\n",
              "  </tbody>\n",
              "</table>\n",
              "</div>"
            ],
            "text/plain": [
              "                          Pregnancies   Glucose  BloodPressure  SkinThickness  \\\n",
              "Pregnancies                  1.000000  0.127911       0.208522       0.082989   \n",
              "Glucose                      0.127911  1.000000       0.218367       0.192991   \n",
              "BloodPressure                0.208522  0.218367       1.000000       0.192816   \n",
              "SkinThickness                0.082989  0.192991       0.192816       1.000000   \n",
              "Insulin                      0.025047  0.419064       0.045087       0.154678   \n",
              "BMI                          0.021559  0.231128       0.281199       0.542438   \n",
              "DiabetesPedigreeFunction    -0.033523  0.137060      -0.002763       0.100966   \n",
              "Age                          0.544341  0.266534       0.324595       0.127872   \n",
              "Outcome                      0.221898  0.492928       0.166074       0.215299   \n",
              "\n",
              "                           Insulin       BMI  DiabetesPedigreeFunction  \\\n",
              "Pregnancies               0.025047  0.021559                 -0.033523   \n",
              "Glucose                   0.419064  0.231128                  0.137060   \n",
              "BloodPressure             0.045087  0.281199                 -0.002763   \n",
              "SkinThickness             0.154678  0.542438                  0.100966   \n",
              "Insulin                   1.000000  0.180241                  0.126503   \n",
              "BMI                       0.180241  1.000000                  0.153438   \n",
              "DiabetesPedigreeFunction  0.126503  0.153438                  1.000000   \n",
              "Age                       0.097101  0.025597                  0.033561   \n",
              "Outcome                   0.203790  0.312038                  0.173844   \n",
              "\n",
              "                               Age   Outcome  \n",
              "Pregnancies               0.544341  0.221898  \n",
              "Glucose                   0.266534  0.492928  \n",
              "BloodPressure             0.324595  0.166074  \n",
              "SkinThickness             0.127872  0.215299  \n",
              "Insulin                   0.097101  0.203790  \n",
              "BMI                       0.025597  0.312038  \n",
              "DiabetesPedigreeFunction  0.033561  0.173844  \n",
              "Age                       1.000000  0.238356  \n",
              "Outcome                   0.238356  1.000000  "
            ]
          },
          "execution_count": 12,
          "metadata": {},
          "output_type": "execute_result"
        }
      ],
      "source": [
        "#Ваш код\n",
        "df.corr()"
      ]
    },
    {
      "cell_type": "markdown",
      "metadata": {
        "id": "sQmhNcfxPLE6"
      },
      "source": [
        "Але матриця кореляції не дуже наочна, особливо, коли ознак багато. Візуалізація краще виглядає на тепловій карті. Теплова карта – це двовимірне представлення інформації за допомогою кольорів. Теплові карти можуть допомогти користувачеві візуалізувати просту чи складну інформацію. Скористайтеся методом бібліотеки **seaborn** [`heatmap()`](https://seaborn.pydata.org/generated/seaborn.heatmap.html), параметром якого буде кореляційна матриця з попереднього завдання, а також використайте наступні параметри: `annot = True`, `cmap = 'RdYlGn'`"
      ]
    },
    {
      "cell_type": "code",
      "execution_count": 13,
      "metadata": {
        "id": "DCyWSc7YP7MB"
      },
      "outputs": [
        {
          "data": {
            "text/plain": [
              "<AxesSubplot:>"
            ]
          },
          "execution_count": 13,
          "metadata": {},
          "output_type": "execute_result"
        },
        {
          "data": {
            "image/png": "[encoded data removed]",
            "text/plain": [
              "<Figure size 432x288 with 2 Axes>"
            ]
          },
          "metadata": {
            "needs_background": "light"
          },
          "output_type": "display_data"
        }
      ],
      "source": [
        "#Ваш код\n",
        "sns.heatmap(data=df.corr(), annot=True, cmap=\"RdYlGn\")"
      ]
    },
    {
      "cell_type": "markdown",
      "metadata": {
        "id": "bwXW5nOSQ4xA"
      },
      "source": [
        "Бачимо, що ознаки між собою не корелюють"
      ]
    },
    {
      "cell_type": "markdown",
      "metadata": {
        "id": "B2yjmL8VbaR9"
      },
      "source": [
        "**Наступним кроком є масштабування даних**\n",
        "\n",
        "Навіщо масштабувати дані для kNN?\n",
        "Завжди доцільно привести всі ознаки в один масштаб для застосування алгоритмів на основі відстані, таких як kNN.\n",
        "Давайте розглянемо приклад обчислення відстані з використанням двох ознак, величини/діапазони яких сильно відрізняються.\n",
        "Евклідова відстань = [(100000–80000)^2 + (30–25)^2]^(1/2)\n",
        "\n",
        "Ми бачимо, як ознака з більшим діапазоном затьмарює або повністю зменшує меншу ознаку, і це вплине на продуктивність усіх моделей на основі відстані, оскільки вона надасть більшу вагу змінним, які мають більшу величину."
      ]
    },
    {
      "cell_type": "markdown",
      "metadata": {
        "id": "6KagyfYhdRBw"
      },
      "source": [
        "Для масштабування даних, скористаємось методом [`StandardScaler()`](https://scikit-learn.org/stable/modules/generated/sklearn.preprocessing.StandardScaler.html) бібліотеки `sklearn.preprocessing`. Для того, щоб нормалізувати дані і одразу їх трансформувати у масив, використаємо метод `fit_transform()`. А також видалимо цільову ознаку **Outcome**, оскільки її масштабувати не потрібно і сформуємо матрицю ознак *Х* і вектор відповідей *у*."
      ]
    },
    {
      "cell_type": "code",
      "execution_count": 14,
      "metadata": {
        "id": "ILKiDk8dRBPr"
      },
      "outputs": [],
      "source": [
        "from sklearn.preprocessing import StandardScaler\n",
        "scaler = StandardScaler()\n",
        "X =  pd.DataFrame(scaler.fit_transform(df.drop([\"Outcome\"],axis = 1),),\n",
        "        columns=['Pregnancies', 'Glucose', 'BloodPressure', 'SkinThickness', 'Insulin',\n",
        "       'BMI', 'DiabetesPedigreeFunction', 'Age'])"
      ]
    },
    {
      "cell_type": "markdown",
      "metadata": {
        "id": "EOdUL8pShKxF"
      },
      "source": [
        "Виведіть перші 5 рядків відмасштабованих даних"
      ]
    },
    {
      "cell_type": "code",
      "execution_count": 15,
      "metadata": {
        "id": "bykqab3Shlzc"
      },
      "outputs": [
        {
          "data": {
            "text/html": [
              "<div>\n",
              "<style scoped>\n",
              "    .dataframe tbody tr th:only-of-type {\n",
              "        vertical-align: middle;\n",
              "    }\n",
              "\n",
              "    .dataframe tbody tr th {\n",
              "        vertical-align: top;\n",
              "    }\n",
              "\n",
              "    .dataframe thead th {\n",
              "        text-align: right;\n",
              "    }\n",
              "</style>\n",
              "<table border=\"1\" class=\"dataframe\">\n",
              "  <thead>\n",
              "    <tr style=\"text-align: right;\">\n",
              "      <th></th>\n",
              "      <th>Pregnancies</th>\n",
              "      <th>Glucose</th>\n",
              "      <th>BloodPressure</th>\n",
              "      <th>SkinThickness</th>\n",
              "      <th>Insulin</th>\n",
              "      <th>BMI</th>\n",
              "      <th>DiabetesPedigreeFunction</th>\n",
              "      <th>Age</th>\n",
              "    </tr>\n",
              "  </thead>\n",
              "  <tbody>\n",
              "    <tr>\n",
              "      <th>0</th>\n",
              "      <td>0.639947</td>\n",
              "      <td>0.865108</td>\n",
              "      <td>-0.033518</td>\n",
              "      <td>6.655021e-01</td>\n",
              "      <td>-0.181541</td>\n",
              "      <td>0.166619</td>\n",
              "      <td>0.468492</td>\n",
              "      <td>1.425995</td>\n",
              "    </tr>\n",
              "    <tr>\n",
              "      <th>1</th>\n",
              "      <td>-0.844885</td>\n",
              "      <td>-1.206162</td>\n",
              "      <td>-0.529859</td>\n",
              "      <td>-1.746338e-02</td>\n",
              "      <td>-0.181541</td>\n",
              "      <td>-0.852200</td>\n",
              "      <td>-0.365061</td>\n",
              "      <td>-0.190672</td>\n",
              "    </tr>\n",
              "    <tr>\n",
              "      <th>2</th>\n",
              "      <td>1.233880</td>\n",
              "      <td>2.015813</td>\n",
              "      <td>-0.695306</td>\n",
              "      <td>8.087936e-16</td>\n",
              "      <td>-0.181541</td>\n",
              "      <td>-1.332500</td>\n",
              "      <td>0.604397</td>\n",
              "      <td>-0.105584</td>\n",
              "    </tr>\n",
              "    <tr>\n",
              "      <th>3</th>\n",
              "      <td>-0.844885</td>\n",
              "      <td>-1.074652</td>\n",
              "      <td>-0.529859</td>\n",
              "      <td>-7.004289e-01</td>\n",
              "      <td>-0.540642</td>\n",
              "      <td>-0.633881</td>\n",
              "      <td>-0.920763</td>\n",
              "      <td>-1.041549</td>\n",
              "    </tr>\n",
              "    <tr>\n",
              "      <th>4</th>\n",
              "      <td>-1.141852</td>\n",
              "      <td>0.503458</td>\n",
              "      <td>-2.680669</td>\n",
              "      <td>6.655021e-01</td>\n",
              "      <td>0.316566</td>\n",
              "      <td>1.549303</td>\n",
              "      <td>5.484909</td>\n",
              "      <td>-0.020496</td>\n",
              "    </tr>\n",
              "  </tbody>\n",
              "</table>\n",
              "</div>"
            ],
            "text/plain": [
              "   Pregnancies   Glucose  BloodPressure  SkinThickness   Insulin       BMI  \\\n",
              "0     0.639947  0.865108      -0.033518   6.655021e-01 -0.181541  0.166619   \n",
              "1    -0.844885 -1.206162      -0.529859  -1.746338e-02 -0.181541 -0.852200   \n",
              "2     1.233880  2.015813      -0.695306   8.087936e-16 -0.181541 -1.332500   \n",
              "3    -0.844885 -1.074652      -0.529859  -7.004289e-01 -0.540642 -0.633881   \n",
              "4    -1.141852  0.503458      -2.680669   6.655021e-01  0.316566  1.549303   \n",
              "\n",
              "   DiabetesPedigreeFunction       Age  \n",
              "0                  0.468492  1.425995  \n",
              "1                 -0.365061 -0.190672  \n",
              "2                  0.604397 -0.105584  \n",
              "3                 -0.920763 -1.041549  \n",
              "4                  5.484909 -0.020496  "
            ]
          },
          "execution_count": 15,
          "metadata": {},
          "output_type": "execute_result"
        }
      ],
      "source": [
        "#Ваш код\n",
        "X.head()"
      ]
    },
    {
      "cell_type": "markdown",
      "metadata": {
        "id": "xYth7D-ThRqc"
      },
      "source": [
        "Створіть вектор відповідей *y* з ознаки **Outcome**"
      ]
    },
    {
      "cell_type": "code",
      "execution_count": 16,
      "metadata": {
        "id": "s5KuDJWvhptE"
      },
      "outputs": [],
      "source": [
        "y = df[\"Outcome\"].values"
      ]
    },
    {
      "cell_type": "markdown",
      "metadata": {
        "id": "tHoli2V5TZis"
      },
      "source": [
        "# M - Modeling data (Моделювання даних)"
      ]
    },
    {
      "cell_type": "markdown",
      "metadata": {
        "id": "GQXCN7uelKZU"
      },
      "source": [
        "Реалізуйте самостійно метод kNN з евклідовою метрикою для класифікаційної задачі.  \n",
        "\n",
        " "
      ]
    },
    {
      "cell_type": "markdown",
      "metadata": {
        "id": "j97UKAgGPsMn"
      },
      "source": [
        "З початку необхідно розділити дані на навчальну та тестову вибірку"
      ]
    },
    {
      "cell_type": "code",
      "execution_count": 17,
      "metadata": {
        "id": "3azseFH1PrKu"
      },
      "outputs": [],
      "source": [
        "#Ваш код\n",
        "from sklearn.model_selection import train_test_split\n",
        "\n",
        "X_train, X_test, y_train, y_test = train_test_split(X, y, test_size=0.25)"
      ]
    },
    {
      "cell_type": "markdown",
      "metadata": {
        "id": "XXzEoznCPtVZ"
      },
      "source": [
        "Ваша реалізація може бути влаштована наступним чином: для кожного об'єкта з навчальної вибірки складається список пар [відстань між цим об'єктом і кожним наступним об'єктом у вибірці, мітка цього об'єкту]. \n",
        "\n",
        "\n"
      ]
    },
    {
      "cell_type": "markdown",
      "metadata": {
        "id": "rmch-rGQxZYt"
      },
      "source": [
        "Розглянемо простий приклад. У нас є 5 об'єктів з відповідями на них:"
      ]
    },
    {
      "cell_type": "code",
      "execution_count": 18,
      "metadata": {
        "id": "51WtAyt5T-Er"
      },
      "outputs": [],
      "source": [
        "#0 [1, 0] [0]\n",
        "#1 [3, 2] [1]\n",
        "#2 [0, 0] [0]\n",
        "#3 [3, 3] [1]\n",
        "#4 [2, 3] [1]"
      ]
    },
    {
      "cell_type": "markdown",
      "metadata": {
        "id": "iN1U49j3UfXP"
      },
      "source": [
        "Для кожного з них розрахуємо відстань до решти об'єктів і запишемо у список пари [відстань, відповідь]. Відстань будемо виміряти за Евклидовою метрикою (мірою):\n",
        "\n",
        "\n",
        "\n"
      ]
    },
    {
      "cell_type": "markdown",
      "metadata": {
        "id": "ODT9c2LOkrri"
      },
      "source": [
        "![завантаження.png](data:image/png;base64,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)"
      ]
    },
    {
      "cell_type": "markdown",
      "metadata": {
        "id": "GJjeXieUll0L"
      },
      "source": [
        "\n",
        "Розрахунок відстаней від нульового об'єкту до решти об'єктів:  "
      ]
    },
    {
      "cell_type": "code",
      "execution_count": 19,
      "metadata": {
        "colab": {
          "base_uri": "https://localhost:8080/"
        },
        "id": "fgKl9HwzmG5j",
        "outputId": "af0101cd-0d1c-4cc7-f5b8-4023ec794fe4"
      },
      "outputs": [
        {
          "name": "stdout",
          "output_type": "stream",
          "text": [
            "2.8284271247461903 1.0 3.605551275463989 3.1622776601683795\n"
          ]
        }
      ],
      "source": [
        "d0_1 = np.sqrt((1-3)**2+(0-2)**2)\n",
        "d0_2 = np.sqrt((1-0)**2+(0-0)**2)\n",
        "d0_3 = np.sqrt((1-3)**2+(0-3)**2)\n",
        "d0_4 = np.sqrt((1-2)**2+(0-3)**2)\n",
        "print(d0_1, d0_2, d0_3, d0_4)"
      ]
    },
    {
      "cell_type": "markdown",
      "metadata": {
        "id": "T66P8eK4ncLw"
      },
      "source": [
        "Отже, список пар [відстань, відповідь] до нульового обєкта виглядає як\n"
      ]
    },
    {
      "cell_type": "code",
      "execution_count": 20,
      "metadata": {
        "id": "-DcDW0Uvx-XO"
      },
      "outputs": [],
      "source": [
        "# [[2.8, 1], \n",
        "#  [1.0, 0], \n",
        "#  [3.6, 1],\n",
        "#  [3.2, 1]] "
      ]
    },
    {
      "cell_type": "markdown",
      "metadata": {
        "id": "Wv5ERWOAoJaK"
      },
      "source": [
        "Наступним етапом буде сортування цього списку за значенням відстані за зростанням, тобто ми хочемо щоб самі близькі до нульового об'єкти були на початку сортованого списку:"
      ]
    },
    {
      "cell_type": "code",
      "execution_count": 21,
      "metadata": {
        "id": "dOsePFbyyH0e"
      },
      "outputs": [],
      "source": [
        "#  [[1.0, 0], \n",
        "#   [2.8, 1],  \n",
        "#   [3.2, 1], \n",
        "#   [3.6, 1]]"
      ]
    },
    {
      "cell_type": "markdown",
      "metadata": {
        "id": "LMlNGA6powdP"
      },
      "source": [
        "Зробимо прогноз класу нульового об'єкту по одному найближчому сусіду (***k*** = 1). Найближчий сусід знаходиться на відстані, рівній 1.0 і має мітку класу 0, тому прогнозуємо, що нульовий об'єкт також належить до 0-го класу. Ми знаємо істинну відповідь на нульовому об'єкті: він, дійсно належить до 0-го класу, тож наш прогноз справдився на 100%. "
      ]
    },
    {
      "cell_type": "markdown",
      "metadata": {
        "id": "Ems8kW3gzKML"
      },
      "source": [
        "Аналогічним чином вчиняємо з першим об'єктом, звісно, виключаючи його зі списку об'єктів, до яких розраховується відстань."
      ]
    },
    {
      "cell_type": "code",
      "execution_count": 22,
      "metadata": {
        "colab": {
          "base_uri": "https://localhost:8080/"
        },
        "id": "iWhlz8WazNLc",
        "outputId": "acc42fb0-dd8f-4daa-97e4-932dbe741db2"
      },
      "outputs": [
        {
          "name": "stdout",
          "output_type": "stream",
          "text": [
            "2.8284271247461903 3.605551275463989 1.0 1.4142135623730951\n"
          ]
        }
      ],
      "source": [
        "d1_0 = np.sqrt((3-1)**2+(2-0)**2)\n",
        "d1_2 = np.sqrt((3-0)**2+(2-0)**2)\n",
        "d1_3 = np.sqrt((3-3)**2+(2-3)**2)\n",
        "d1_4 = np.sqrt((3-2)**2+(2-3)**2)\n",
        "print(d1_0, d1_2, d1_3, d1_4)"
      ]
    },
    {
      "cell_type": "markdown",
      "metadata": {
        "id": "PvQHGH9dzy8n"
      },
      "source": [
        "Отже, список пар [відстань, відповідь] до першого обєкта виглядає як"
      ]
    },
    {
      "cell_type": "code",
      "execution_count": 23,
      "metadata": {
        "id": "UCzvI2jqz1IE"
      },
      "outputs": [],
      "source": [
        "# [[2.8, 0], \n",
        "#  [3.6, 0], \n",
        "#  [1.0, 1],\n",
        "#  [1.4, 1]] \n",
        "\n",
        "#  # Відсортований список\n",
        "\n",
        "#  [[1.0, 1],\n",
        "#   [1.4, 1],\n",
        "#   [2.8, 0], \n",
        "#   [3.6, 0]]"
      ]
    },
    {
      "cell_type": "markdown",
      "metadata": {
        "id": "PFtBb0zA0YFK"
      },
      "source": [
        "Найближчий сусід має мітку класу 1, тому робимо прогноз, що перший об'єкт також належить до 1-го класу. Ми знаємо істинну відповідь на першому об'єкті - він, дійсно належить до 1-го класу, тож наш прогноз знову справдився на 100%."
      ]
    },
    {
      "cell_type": "markdown",
      "metadata": {
        "id": "r6l8ucNXqZSg"
      },
      "source": [
        " І так для усіх об'єктів з вибірки ми будемо прогнозувати їх клас за одним сусідом і вимірювати якість прогнозу. Для більшого датасету потрібно повторити процедуру для двох, трьох, чотирьох... і т.д. сусідів, кожного разу вимірюючи якість алгоритму для певної кількості сусідів. Підбір кількості сусідів і є *процедурою навчання алгоритму kNN*. Якість для задачі класифікації будемо визначати метрикою **accuracy**. Коли ми визначемо якість алгоритму для усього діпазону сусідів, від 1 до, приміром 30, необхідно визначити скільки ж сусідів забезпечили найвищу якість алгоритму. А потім перевірити цей алгоритм на тестовій вибірці.    "
      ]
    },
    {
      "cell_type": "markdown",
      "metadata": {
        "id": "A1bK-yRRTVWE"
      },
      "source": [
        "Якщо прогноз виконується за одним сусідом, *k* = 1, то прогнозований об'єкт набуває класу сусіда. А якщо *k* = 2, 3, 4,..., то на якого сусіда орієнтуватись? Якщо  *k* > 1, то вибираємо найпопулярніший клас серед сусідів. Наприклад, ви реалізуєте kNN для *k* = 4. Підраховуємо скільки сусідів належить до кожного класу і обираємо той клас, представників якого більше. Але може бути така ситуація, коли при парному *k* кількість представників усіх класів однакова. Можна заморочитись і проаналізувати котрі сусіди з *k* знаходяться ближче, можна у таких випадках завжди відносити до найпопулярнішого класу в усій вибірці, а самим правільним рішенням буде застосовувати зважений kNN. Але, у цій роботі немає вимог використовувати зважений kNN."
      ]
    },
    {
      "cell_type": "markdown",
      "metadata": {
        "id": "xS-pGrZUp2cX"
      },
      "source": [
        "1.   Реалізуйте ідею пошуку оптимальної кількості сусідів для даних з датасету **diabets** для кількості сусідів ***k*** з діапазону від 1 до 15.\n",
        "2.   Для кожного ***k*** записуйте якість алгоритму у список.  \n",
        "3.   Розрахуйте якість алгоритму для кожного ***k*** на тестовій вибірці.\n",
        "4.   Побудуйте графіки залежності якості алгоритму від кількості сусідів ***k***.\n",
        "5.   Оберіть оптиальне ***k***, проаналізувавши графіки.\n",
        "\n",
        "\n"
      ]
    },
    {
      "cell_type": "code",
      "execution_count": 24,
      "metadata": {
        "id": "3GrWpN7ClKZZ"
      },
      "outputs": [
        {
          "name": "stdout",
          "output_type": "stream",
          "text": [
            "RSS (k=1): 0.3489583333333333\n",
            "RSS (k=2): 0.3229166666666667\n",
            "RSS (k=3): 0.2916666666666667\n",
            "RSS (k=4): 0.2916666666666667\n",
            "RSS (k=5): 0.2552083333333333\n",
            "RSS (k=6): 0.28125\n",
            "RSS (k=7): 0.2760416666666667\n",
            "RSS (k=8): 0.23958333333333334\n",
            "RSS (k=9): 0.265625\n",
            "RSS (k=10): 0.24479166666666666\n",
            "RSS (k=11): 0.2604166666666667\n",
            "RSS (k=12): 0.24479166666666666\n",
            "RSS (k=13): 0.234375\n",
            "RSS (k=14): 0.24479166666666666\n",
            "The best RSS=0.234375, k=13\n"
          ]
        }
      ],
      "source": [
        "#Ваш код TODO\n",
        "from matplotlib.pyplot import axis\n",
        "import scipy.stats\n",
        "from sklearn.metrics import mean_squared_error\n",
        "\n",
        "class MyFinder:\n",
        "    k = 1\n",
        "    x = np.array([])\n",
        "    y = np.array([])\n",
        "    \n",
        "    def __init__(self, k):\n",
        "        self.k = k\n",
        "\n",
        "    def fit(self, x, y):\n",
        "        self.x = x\n",
        "        self.y = y\n",
        "\n",
        "    \n",
        "    def __calc(self, item):\n",
        "        distances = np.linalg.norm(self.x - item, axis=1)\n",
        "        #if the item was in fit, then the first item in\n",
        "        # the array will be the item itself,\n",
        "        # be carefull with calculations on the fitted data \n",
        "        nearest_neighbor_ids = distances.argsort()[:self.k]\n",
        "        nearest_neighbor_answers = self.y[nearest_neighbor_ids]\n",
        "        return scipy.stats.mode(nearest_neighbor_answers).mode[0]\n",
        "\n",
        "\n",
        "    def predict(self, x):\n",
        "        calc_anserws = []\n",
        "        for index, row in x.iterrows():\n",
        "            calc_anserws.append(self.__calc(row))\n",
        "        return np.array(calc_anserws)\n",
        "\n",
        "\n",
        "\n",
        "train = []\n",
        "test = []\n",
        "\n",
        "def get_best(answers):\n",
        "    best_index = answers.index(min(answers))\n",
        "    print(f\"The best RSS={answers[best_index]}, k={best_index+1}\")\n",
        "\n",
        "#we use test data for main score, test data will not work for this \n",
        "#because of the __calc method comments\n",
        "for k in range(1, 15):\n",
        "    model =  MyFinder(k=k)\n",
        "    model.fit(X_train, y_train)\n",
        "    rss_train = mean_squared_error(y_train, model.predict(X_train))\n",
        "    rss_test = mean_squared_error(y_test, model.predict(X_test))\n",
        "    train.append(rss_train)\n",
        "    test.append(rss_test)\n",
        "    print(f\"RSS (k={k}): {rss_test}\")\n",
        "\n",
        "\n",
        "get_best(test)"
      ]
    },
    {
      "cell_type": "code",
      "execution_count": 25,
      "metadata": {},
      "outputs": [
        {
          "data": {
            "text/plain": [
              "[<matplotlib.lines.Line2D at 0x206086c0c10>]"
            ]
          },
          "execution_count": 25,
          "metadata": {},
          "output_type": "execute_result"
        },
        {
          "data": {
            "image/png": "[encoded data removed]",
            "text/plain": [
              "<Figure size 432x288 with 1 Axes>"
            ]
          },
          "metadata": {
            "needs_background": "light"
          },
          "output_type": "display_data"
        }
      ],
      "source": [
        "plt.title(\"train data\")\n",
        "plt.xlabel(\"k\")\n",
        "plt.ylabel(\"rss\")\n",
        "plt.plot(range(1, 15), train)\n"
      ]
    },
    {
      "cell_type": "code",
      "execution_count": 26,
      "metadata": {},
      "outputs": [
        {
          "data": {
            "text/plain": [
              "[<matplotlib.lines.Line2D at 0x2060870f2e0>]"
            ]
          },
          "execution_count": 26,
          "metadata": {},
          "output_type": "execute_result"
        },
        {
          "data": {
            "image/png": "[encoded data removed]",
            "text/plain": [
              "<Figure size 432x288 with 1 Axes>"
            ]
          },
          "metadata": {
            "needs_background": "light"
          },
          "output_type": "display_data"
        }
      ],
      "source": [
        "plt.title(\"test data\")\n",
        "plt.xlabel(\"k\")\n",
        "plt.ylabel(\"rss\")\n",
        "plt.plot(range(1, 15), test)"
      ]
    },
    {
      "cell_type": "markdown",
      "metadata": {
        "id": "g3cGOMpfoD_0"
      },
      "source": [
        "Тепер реалізуйте кроки 1-5 за допомогою класифікатора [`KNeighborsClassifier`](https://scikit-learn.org/stable/modules/generated/sklearn.neighbors.KNeighborsClassifier.html) з модуля `sklearn.neighbors`"
      ]
    },
    {
      "cell_type": "code",
      "execution_count": 27,
      "metadata": {
        "id": "m_RasEVZSRoY"
      },
      "outputs": [
        {
          "name": "stdout",
          "output_type": "stream",
          "text": [
            "RSS (k=1): 0.3489583333333333\n",
            "RSS (k=2): 0.3229166666666667\n",
            "RSS (k=3): 0.2916666666666667\n",
            "RSS (k=4): 0.2916666666666667\n",
            "RSS (k=5): 0.2552083333333333\n",
            "RSS (k=6): 0.28125\n",
            "RSS (k=7): 0.2760416666666667\n",
            "RSS (k=8): 0.23958333333333334\n",
            "RSS (k=9): 0.265625\n",
            "RSS (k=10): 0.24479166666666666\n",
            "RSS (k=11): 0.2604166666666667\n",
            "RSS (k=12): 0.24479166666666666\n",
            "RSS (k=13): 0.234375\n",
            "RSS (k=14): 0.24479166666666666\n",
            "The best RSS=0.234375, k=13\n"
          ]
        }
      ],
      "source": [
        "#Ваш код\n",
        "from sklearn.neighbors import KNeighborsClassifier\n",
        "\n",
        "train = []\n",
        "test = []\n",
        "\n",
        "for k in range(1, 15):\n",
        "    model = KNeighborsClassifier(n_neighbors=k)\n",
        "    model.fit(X_train, y_train)\n",
        "    rss_train = mean_squared_error(y_train, model.predict(X_train))\n",
        "    rss_test = mean_squared_error(y_test, model.predict(X_test))\n",
        "    train.append(rss_train)\n",
        "    test.append(rss_test)\n",
        "    print(f\"RSS (k={k}): {rss_test}\")\n",
        "    \n",
        "get_best(test)"
      ]
    },
    {
      "cell_type": "code",
      "execution_count": 28,
      "metadata": {},
      "outputs": [
        {
          "data": {
            "text/plain": [
              "[<matplotlib.lines.Line2D at 0x20608db8850>]"
            ]
          },
          "execution_count": 28,
          "metadata": {},
          "output_type": "execute_result"
        },
        {
          "data": {
            "image/png": "[encoded data removed]",
            "text/plain": [
              "<Figure size 432x288 with 1 Axes>"
            ]
          },
          "metadata": {
            "needs_background": "light"
          },
          "output_type": "display_data"
        }
      ],
      "source": [
        "plt.title(\"train data\")\n",
        "plt.xlabel(\"k\")\n",
        "plt.ylabel(\"rss\")\n",
        "plt.plot(range(1, 15), train)"
      ]
    },
    {
      "cell_type": "code",
      "execution_count": 29,
      "metadata": {},
      "outputs": [
        {
          "data": {
            "text/plain": [
              "[<matplotlib.lines.Line2D at 0x20608e1f940>]"
            ]
          },
          "execution_count": 29,
          "metadata": {},
          "output_type": "execute_result"
        },
        {
          "data": {
            "image/png": "[encoded data removed]",
            "text/plain": [
              "<Figure size 432x288 with 1 Axes>"
            ]
          },
          "metadata": {
            "needs_background": "light"
          },
          "output_type": "display_data"
        }
      ],
      "source": [
        "plt.title(\"test data\")\n",
        "plt.xlabel(\"k\")\n",
        "plt.ylabel(\"rss\")\n",
        "plt.plot(range(1, 15), test)"
      ]
    },
    {
      "cell_type": "markdown",
      "metadata": {
        "id": "lF35wagOSZp4"
      },
      "source": [
        "# N - Interpreting data (Інтепретація даних)"
      ]
    },
    {
      "cell_type": "markdown",
      "metadata": {
        "id": "M7ZSn90TTwUu"
      },
      "source": [
        "На етапі Exploring / Visualizing data ми з'ясували, що вибірка незбалансована: кількість об'єктів одного класу сильно перебільшує кількість об'єктів іншого класу. Отже, метрика `accuracy` не дає об'єктивного розуміння про якість моделі. Побудуйте confusion-матрицю, щоб мати уявлення про співвідношення об'єктів у True Positive, True Negative, False Positive та False Negative. Використовуйте інструмент [`confusion_matrix`](https://scikit-learn.org/stable/modules/generated/sklearn.metrics.confusion_matrix.html?highlight=confusion_matrix#sklearn.metrics.confusion_matrix) з модуля `sklearn.metrics`"
      ]
    },
    {
      "cell_type": "code",
      "execution_count": 30,
      "metadata": {
        "id": "Eh5DYdsBaxoz"
      },
      "outputs": [
        {
          "data": {
            "text/plain": [
              "array([[103,  22],\n",
              "       [ 27,  40]], dtype=int64)"
            ]
          },
          "execution_count": 30,
          "metadata": {},
          "output_type": "execute_result"
        }
      ],
      "source": [
        "#Ваш код\n",
        "from sklearn.metrics import confusion_matrix\n",
        "from sklearn.neighbors import KNeighborsClassifier\n",
        "\n",
        "best_k = 5\n",
        "best_model = KNeighborsClassifier(best_k)\n",
        "best_model.fit(X_train, y_train)\n",
        "y_true = y_test\n",
        "y_predict = best_model.predict(X_test)\n",
        "confusion_matrix(y_true, y_predict)"
      ]
    },
    {
      "cell_type": "markdown",
      "metadata": {
        "id": "q8AqQpiJbCBt"
      },
      "source": [
        "Виведіть звіт по основних метриках класифікаційної задачі за допомогою інструмента [`classification_report`](https://scikit-learn.org/stable/modules/generated/sklearn.metrics.classification_report.html?highlight=classification_report#sklearn.metrics.classification_report)"
      ]
    },
    {
      "cell_type": "code",
      "execution_count": 31,
      "metadata": {
        "id": "SttM-bDodJnU"
      },
      "outputs": [
        {
          "name": "stdout",
          "output_type": "stream",
          "text": [
            "              precision    recall  f1-score   support\n",
            "\n",
            "           0       0.79      0.82      0.81       125\n",
            "           1       0.65      0.60      0.62        67\n",
            "\n",
            "    accuracy                           0.74       192\n",
            "   macro avg       0.72      0.71      0.71       192\n",
            "weighted avg       0.74      0.74      0.74       192\n",
            "\n"
          ]
        }
      ],
      "source": [
        "#Ваш код\n",
        "\n",
        "from sklearn.metrics import classification_report\n",
        "\n",
        "\n",
        "print(classification_report(y_true, y_predict))"
      ]
    },
    {
      "cell_type": "markdown",
      "metadata": {
        "id": "Bn_4aOVodN-k"
      },
      "source": [
        "Зробіть висновки по якості отриманої моделі на основі отриманого звіту. Яка метрика дає повну інформацію?"
      ]
    },
    {
      "cell_type": "markdown",
      "metadata": {
        "id": "_ZbUG3OJcB7a"
      },
      "source": [
        "Для того, щоб розуміти наскільки добре наша модель зправляється з завданням виявляти хворобу, візуалізуйте ROC - криву ([`roc_curve`](https://scikit-learn.org/stable/modules/generated/sklearn.metrics.roc_curve.html?highlight=roc_curve#sklearn.metrics.roc_curve)) і пригадайте якою має бути крива ідеального алгоритму, а якою - найгіршого."
      ]
    },
    {
      "cell_type": "code",
      "execution_count": 32,
      "metadata": {
        "id": "wNly5pLGdES2"
      },
      "outputs": [
        {
          "data": {
            "text/plain": [
              "[<matplotlib.lines.Line2D at 0x20608e89cd0>]"
            ]
          },
          "execution_count": 32,
          "metadata": {},
          "output_type": "execute_result"
        },
        {
          "data": {
            "image/png": "[encoded data removed]",
            "text/plain": [
              "<Figure size 432x288 with 1 Axes>"
            ]
          },
          "metadata": {
            "needs_background": "light"
          },
          "output_type": "display_data"
        }
      ],
      "source": [
        "#Ваш код\n",
        "from sklearn.metrics import roc_curve\n",
        "\n",
        "\n",
        "fpr, tpr, _ = roc_curve(y_true, y_predict)\n",
        "\n",
        "\n",
        "plt.xlabel(\"false positive rate\")\n",
        "plt.ylabel(\"true positive rate\")\n",
        "#the better true positive rate the better\n",
        "plt.plot(fpr, tpr)"
      ]
    },
    {
      "cell_type": "markdown",
      "metadata": {
        "id": "rzsfyVfrdfVD"
      },
      "source": [
        "І, на останок, я покажу вам дуже вправний інструмент, який застосовується абсолютно до всіх методів, які мають гіперпараметри (у kNN гіперпараметр - то кількість сусідів). Знаходження оптимального значення певних параметрів припускає запуск багатьох вкладених циклів - чим більше параметрів, тим глибша вкладеність. Наприклад, у градієнтному бустінгу 2 основні гіперпараметри: розмір кроку і кількість базових алгоритмів. Необхідно віднайти оптимальне співвідношення цих параметрів (насправді, гіпермараметрів ГБ набагато більше, це лише явні, так би мовити макро гіперпараметри)."
      ]
    },
    {
      "cell_type": "code",
      "execution_count": 33,
      "metadata": {
        "id": "cJAeyaj7faVY"
      },
      "outputs": [
        {
          "name": "stdout",
          "output_type": "stream",
          "text": [
            "Best Score:0.7734827264239028\n",
            "Best Parameters: {'n_neighbors': 25}\n"
          ]
        }
      ],
      "source": [
        "from sklearn.model_selection import GridSearchCV\n",
        "from sklearn.neighbors import KNeighborsClassifier\n",
        "\n",
        "param_grid = {'n_neighbors':np.arange(1, 50)}\n",
        "knn = KNeighborsClassifier()\n",
        "knn_cv = GridSearchCV(knn, param_grid, cv = 5)\n",
        "knn_cv.fit(X, y) #X - масштабована вибірка ознак, у - вектор відповідей\n",
        "\n",
        "print(\"Best Score:\" + str(knn_cv.best_score_))\n",
        "print(\"Best Parameters: \" + str(knn_cv.best_params_))"
      ]
    }
  ],
  "metadata": {
    "colab": {
      "provenance": []
    },
    "kernelspec": {
      "display_name": "Python 3.9.13 64-bit (microsoft store)",
      "language": "python",
      "name": "python3"
    },
    "language_info": {
      "codemirror_mode": {
        "name": "ipython",
        "version": 3
      },
      "file_extension": ".py",
      "mimetype": "text/x-python",
      "name": "python",
      "nbconvert_exporter": "python",
      "pygments_lexer": "ipython3",
      "version": "3.9.13"
    },
    "vscode": {
      "interpreter": {
        "hash": "8154814e8422e68aace7e382fef942e7ec8dbbe91bdadf4f46de21dc52d947a4"
      }
    }
  },
  "nbformat": 4,
  "nbformat_minor": 0
}
